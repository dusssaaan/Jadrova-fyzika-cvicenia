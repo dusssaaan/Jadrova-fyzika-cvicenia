{
 "cells": [
  {
   "cell_type": "markdown",
   "metadata": {},
   "source": [
    "# Cvičenie 10"
   ]
  },
  {
   "cell_type": "code",
   "execution_count": 1,
   "metadata": {},
   "outputs": [],
   "source": [
    "#kniznica na kreslenie grafov\n",
    "import matplotlib.pyplot as plt\n",
    "#numericko matematicka kniznica\n",
    "import numpy as np\n",
    "#knižnica na import fyzikálnych konštát\n",
    "import scipy.constants as sc"
   ]
  },
  {
   "cell_type": "markdown",
   "metadata": {},
   "source": [
    "# Príklad 10.1\n",
    "\n",
    ">Z červeného posunu spektier bolo zistené, že galaxie sa vplyvom rovnomernej expanzie priestoru vzďalujú od našej Zeme rýchlosťou\n",
    ">\n",
    ">$$v=H d $$,\n",
    ">\n",
    ">kde H je Hubblova konštanta $H=67 \\frac{\\frac{km}{s}}{Mpc} $ a d je vzdialenosť medzi galaxiami a našou Zemou.\n",
    ">\n",
    ">a) Uvedomme si, že ak uvažujeme istú definovanú škálu v priestore R(t), tak Hubblovu konštantu možno napísať ako\n",
    ">\n",
    ">$$H=\\frac{1}{R}\\frac{d R}{d t}.$$\n",
    ">\n",
    ">b) Za predpokladu, že expanzia vesmíru bola konštantná v čase, t.j $\\frac{d R}{d t}=k$, určite vek vesmíru. ($1 pc =  3.0857×10^{16} m$)."
   ]
  },
  {
   "cell_type": "markdown",
   "metadata": {},
   "source": [
    "#### riešenie\n",
    "Stačí si uvedomiť, že vek vesmíru je v tomto prípade $t=1/H$."
   ]
  },
  {
   "cell_type": "code",
   "execution_count": 2,
   "metadata": {},
   "outputs": [
    {
     "data": {
      "text/plain": [
       "4.605522388059702e+17"
      ]
     },
     "execution_count": 2,
     "metadata": {},
     "output_type": "execute_result"
    }
   ],
   "source": [
    "# vyjadrime H v rok-1\n",
    "H=67 / (3.0857*10**(19)) \n",
    "# vek vesmiru v sekundach\n",
    "1/H"
   ]
  },
  {
   "cell_type": "code",
   "execution_count": 3,
   "metadata": {},
   "outputs": [
    {
     "data": {
      "text/plain": [
       "14604015690.194387"
      ]
     },
     "execution_count": 3,
     "metadata": {},
     "output_type": "execute_result"
    }
   ],
   "source": [
    "# vek vesmiru v rokoch\n",
    "1/H/(8760*3600)"
   ]
  },
  {
   "cell_type": "markdown",
   "metadata": {},
   "source": [
    "# Príklad 10.2\n",
    "\n",
    ">Tesne po Veľkom Tresku bol vesmír plný vysokoenergetických častíc a žiarenia. \n",
    "Žiarenie bolo tak silné, že procesy typu:\n",
    ">\n",
    ">fotóny$\\leftrightarrow p+ \\bar{p}, n+\\bar{n}$ boli v rovnováhe. \n",
    ">\n",
    ">Ako pokračovalo rozpínanie vesmíru, energia žiarenia klesala a fotóny nemali dostatok energie na kreovanie nukleón-antinukleónových párov, to sa udialo v čase\n",
    ">$t=10^{-6}$ s.\n",
    ">Po tomto čase hmota s antihmotou anihilovala, avšak za predpokladu, že bolo trochu viac hmoty k antihmote (doteraz neobjasnená časť fyziky), pomer počtu protónov a neutrónov k počtu fotónov bol $1:10^9$.\n",
    ">\n",
    ">Vo vesmíre sa však stále vyskytuje veľká hustota $e^{\\pm}$, $\\nu_e$ a $\\bar{\\nu}_e$, takže reakcie \n",
    ">$p+\\bar{\\nu}_e\\leftrightarrow n+e^+ $\n",
    ">$n+\\nu_e\\leftrightarrow p+e^- $\n",
    ">\n",
    ">prebiehajú oboma smermi.\n",
    ">\n",
    ">a) Ako by ste vyjadrili pomer počtu neutrónov a protónov v rovnovážnom stave pri teplote T?\n",
    ">\n",
    ">b) V čase $t=1s$ čo zodpovedá teplote vesmíru $T=9\\times 10^{9} K$ \n",
    "sa interakcie neutrín stavajú zanedbateľnými. Toto sa nazýva érou neutrínového odviazania (neutrino decoupling).\n",
    "Vyčíslite pomer počtu neutrónov k počtu protónov $N_n/N_p$ v tomto čase. \n",
    ">\n",
    ">c) Na to, aby mohla začať nukleosyntéza, potrebujeme, aby fotóny nemali dosť energie na rozbíjanie deuterónu\n",
    "(Väzbová energia deuterónu je 2.22 MeV). To zodpovedá teplote $T=9\\times 10^8$ K a veku vesmíru 250 s. Aký bude pomer \n",
    "počtu neutrónov k počtu protónov $N_n/N_p$ v čase 250 s, ak uvážime, že polčas premeny neutrónu je $t_{1/2}=10.6$ min?\n",
    ">\n",
    ">d) Ak vznikne deutérium\n",
    ">\n",
    ">$ n+p\\rightarrow d +\\gamma $\n",
    ">\n",
    ">môžu tiež vzniknúť nuklidy so $A=3$:\n",
    ">\n",
    ">$d+n\\rightarrow {^3\\textrm{H}}+\\gamma $ \n",
    ">\n",
    ">$d+p\\rightarrow {^3\\textrm{He}}+\\gamma $\n",
    "> \n",
    ">alebo (doplňte)\n",
    ">\n",
    ">$d+...\\rightarrow {^3\\textrm{H}}+p $\n",
    ">\n",
    ">$d+d\\rightarrow {^3\\textrm{He}}+... $\n",
    "> \n",
    ">vznikajú tiež jadrá s $A=4$ (doplňte)\n",
    ">\n",
    ">$...+p\\rightarrow {^4\\textrm{He}}+\\gamma $\n",
    ">\n",
    ">$...+n\\rightarrow {^4\\textrm{He}}+\\gamma $\n",
    "> \n",
    ">jadrá so $A=5$ sú veľmi nestabilné, avšak môže ešte vzniknúť veľmi malé množstvo $Z=7$ jadier reakciami\n",
    ">\n",
    ">${^4\\textrm{He}}+ {^3\\textrm{H}}\\rightarrow...+\\gamma  $\n",
    ">\n",
    ">${^4\\textrm{He}}+ {^3\\textrm{He}}\\rightarrow...+\\gamma $ \n",
    "\n",
    ">Po desiatich minutách od vzniku vesmíru poklesne jeho teplota na hodnotu, pri ktorej už fúzia prakticky nenastáva.\n",
    ">Analýzou predošlých rovníc, sa dá ukázať, že prakticky všetky neutróny skončia v jadrách ${^4\\textrm{He}}$\n",
    ">(${^4\\textrm{He}}$ má najvyššiu väzbovú energiu na jeden nukleón spomedzi ľahkých jadier). \n",
    ">Aký je pomer $Y_p=m_{He}/m$, kde $m$ je hmotnosť ostatnej hmoty vo vesmíre?\n"
   ]
  },
  {
   "cell_type": "markdown",
   "metadata": {},
   "source": [
    "#### riešenie\n",
    "a) Pomer počtu neutrónov k protónom v rovnovážnom stave pri teplote T je \n",
    "$N_n/N_p=\\left(\\frac{m_n}{m_p}\\right)^{3/2}\\frac{e^{-m_n/kT}}{e^{-m_p/kT}}\\approx e^{-(m_n-m_p)/kT}$"
   ]
  },
  {
   "cell_type": "markdown",
   "metadata": {},
   "source": [
    "b) vyčíslenie  tohto pomeru $N_n/N_p \\approx 0,2 $, pomocou:"
   ]
  },
  {
   "cell_type": "code",
   "execution_count": 4,
   "metadata": {},
   "outputs": [
    {
     "data": {
      "text/plain": [
       "0.18869732950313264"
      ]
     },
     "execution_count": 4,
     "metadata": {},
     "output_type": "execute_result"
    }
   ],
   "source": [
    "delta_M=sc.value('neutron-proton mass difference energy equivalent in MeV')\n",
    "T=9*10**9\n",
    "k=sc.value('Boltzmann constant in eV/K')/1000000\n",
    "np.exp(-delta_M/(k*T))"
   ]
  },
  {
   "cell_type": "markdown",
   "metadata": {},
   "source": [
    "c) $N_n/N_p \\approx 0,2  e^{\\frac{-\\ln{2}}{t_{1/2}}~ 250} $"
   ]
  },
  {
   "cell_type": "code",
   "execution_count": 5,
   "metadata": {},
   "outputs": [
    {
     "data": {
      "text/plain": [
       "0.15230024250380853"
      ]
     },
     "execution_count": 5,
     "metadata": {},
     "output_type": "execute_result"
    }
   ],
   "source": [
    "0.2*np.exp(-np.log(2)/(10.6*60)*250)"
   ]
  },
  {
   "cell_type": "markdown",
   "metadata": {},
   "source": [
    "d) \n",
    "Doplnenie:\n",
    "\n",
    "$d+d\\rightarrow {^3\\textrm{H}}+p $\n",
    "\n",
    "$d+d\\rightarrow {^3\\textrm{He}}+n $\n",
    " \n",
    "$^3H+p\\rightarrow {^4\\textrm{He}}+\\gamma $\n",
    "\n",
    "$^3He+n\\rightarrow {^4\\textrm{He}}+\\gamma $\n",
    " \n",
    "${^4\\textrm{He}}+ {^3\\textrm{H}}\\rightarrow ^7Li  +\\gamma  $\n",
    "\n",
    "${^4\\textrm{He}}+ {^3\\textrm{He}}\\rightarrow ^7Be +\\gamma $ \n",
    "\n",
    "$Y_p=m_{He}/m=30/115 \\approx 26 $ (Na 100 protónov pripadá 15 neutrónov a teda na 115 nukleónov je 30 nukleónov vo forme He )\n",
    "\n",
    "Vyšlo nám, že 26 % hmoty je vo forme hélia. Z experimentov vieme, že zhruba 24% všetkej viditeľnej hmotnosti vesmíru tvorí He, 74% H a zvyšené 2 % ostatné elementy."
   ]
  },
  {
   "cell_type": "code",
   "execution_count": 6,
   "metadata": {},
   "outputs": [
    {
     "data": {
      "text/plain": [
       "0.2608695652173913"
      ]
     },
     "execution_count": 6,
     "metadata": {},
     "output_type": "execute_result"
    }
   ],
   "source": [
    "30/115"
   ]
  },
  {
   "cell_type": "markdown",
   "metadata": {},
   "source": [
    "# Príklad 10.3\n",
    "\n",
    ">V predošlom príklade sme si povedali, že v čase $t=1s$ reakcie s neutrínami prestávajú hrať úlohu. \n",
    "Od tohto času ostávajú neutrína voľnými a šíria sa vesmírom ako kozmické neutrínové pozadie. \n",
    "Určite ste počuli o reliktnom mikrovlnnom žiarení. Vysvetlite, či toto žiarenie vzniklo skôr, alebo neskôr ako kozmické neutrínové pozadie.\n"
   ]
  },
  {
   "cell_type": "markdown",
   "metadata": {},
   "source": [
    "#### riešenie\n",
    "\n",
    "Neskôr, lebo energie fotónov museli klesnúť pod 13,6 eV, aby neionizovali H, a tým sa odviazali, čo sa udialo asi\n",
    "po 379,000 rokoch od vzniku vesmíru. Teda štúdium reliktného mikrovlnného žiarenia, nám umožňuje študovať vesmír do doby po 379,000 rokov od jeho vzniku, zatiaľ čo štúdiom kozmického neutrínového pozadia by sme mohli študovať vesmír až do 1 s po jeho vzniku."
   ]
  },
  {
   "cell_type": "markdown",
   "metadata": {},
   "source": [
    "# Príklad 10.4\n",
    ">P-P cyklus je jeden z možných procesov, v ktorom sa vo hviezdach premieňa vodík na hélium,\n",
    ">a ktorý dominuje vo hviezdach veľkosti Slnka a menších.\n",
    ">Možno ho rozdeliť na tri kroky.\n",
    ">\n",
    ">a) V prvom kroku fúziou dvoch protónov vzniká deuterón. \n",
    "Napíšte rovnicu pre tento proces a vypočítajte Q hodnotu. Vysvetlite, prečo je tento proces veľmi zriedkavý.\n",
    ">\n",
    ">b) Vytvorený deutrón interaguje rýchlo s protónom\n",
    ">\n",
    ">$^2\\textrm{H}+^1\\textrm{H}\\rightarrow ^3\\textrm{He}+\\gamma ~~~~~~~~(Q=5.49\\textrm{MeV})$\n",
    ">\n",
    ">proces s fúziou dvoch deuterónov je dosť nepravdepodobný, pretože pomer deuterónov v slnku k počtu protónov je\n",
    "$1:10^{18}$. \n",
    ">\n",
    ">c) Najpravdepodobnejší proces (P-P cyklus 1) vzniku $^4\\textrm{He}$ potom je \n",
    ">\n",
    ">$^3\\textrm{He}+^3\\textrm{He}\\rightarrow ^4\\textrm{He}+2~ ^1\\textrm{H}+\\gamma ~~~~~~~~ (Q=12.86\\textrm{MeV})$.\n",
    ">\n",
    ">Vypočítajte koľko energie sa uvoľní pri celom P-P cykle."
   ]
  },
  {
   "cell_type": "markdown",
   "metadata": {},
   "source": [
    "#### riešenie\n",
    "\n",
    "a) $^1\\textrm{H}+^1\\textrm{H}\\rightarrow ^2\\textrm{H}+e^{+}+\\nu_e$\n",
    "\n",
    "proces je pomalý, lebo je potrebná $\\beta^+$ premena protónu na neutrón, čo je proces v rámci slabých interakcií. Protón v slnku čaká priemerne 9 miliárd rokov na úspešnú fúziu s ďalším protónom. \n",
    "\n",
    "Q  hodnota procesu je:"
   ]
  },
  {
   "cell_type": "code",
   "execution_count": 7,
   "metadata": {},
   "outputs": [
    {
     "data": {
      "text/plain": [
       "1.442232699999907"
      ]
     },
     "execution_count": 7,
     "metadata": {},
     "output_type": "execute_result"
    }
   ],
   "source": [
    "mp=sc.value('proton mass energy equivalent in MeV')\n",
    "md=sc.value('deuteron mass energy equivalent in MeV')\n",
    "me=sc.value('electron mass energy equivalent in MeV')\n",
    "2*mp+ 2*me - md - me "
   ]
  },
  {
   "cell_type": "markdown",
   "metadata": {},
   "source": [
    "c) Energia uvoľnená pri P-P cykle (v MeV):"
   ]
  },
  {
   "cell_type": "code",
   "execution_count": 8,
   "metadata": {},
   "outputs": [
    {
     "data": {
      "text/plain": [
       "26.72"
      ]
     },
     "execution_count": 8,
     "metadata": {},
     "output_type": "execute_result"
    }
   ],
   "source": [
    "2 *1.44 + 2 * 5.49 + 12.86"
   ]
  },
  {
   "cell_type": "markdown",
   "metadata": {},
   "source": [
    "# Príklad 10.5\n",
    "\n",
    ">Všimnime si, že pre každý typ P-P cyklu a tiež pri pep cykle vzniká neutríno. Kedy má spojité a kedy nespojité spektrum?"
   ]
  },
  {
   "cell_type": "markdown",
   "metadata": {},
   "source": [
    "#### riešenie\n",
    "\n",
    "Nespojité spektrum nastáva pri elektrónovom záchyte. Viď obrázky v zadaní."
   ]
  },
  {
   "cell_type": "markdown",
   "metadata": {},
   "source": [
    "# Príklad 10.6\n",
    "\n",
    ">Keď je hviezdne vodíkové palivo vyhorené, vo hviezde môže prísť ku gravitačnému kolapsu a k zvýšeniu energie. Z hviezdy sa stane červený obor.\n",
    "Tvorí sa ${^{12}\\textrm{C}}$ prostredníctvom reakcie\n",
    ">\n",
    ">$3{^4\\textrm{He}}\\rightarrow {^{12}\\textrm{C}^*}$\n",
    ">\n",
    ">Po vytvorení dostatočného množstva ${^{12}\\textrm{C}}$ \n",
    "môžu nastať reakcie (doplňte):\n",
    ">\n",
    ">${^{12}\\textrm{C}}+...\\rightarrow {^{16}\\textrm{O}}+\\gamma $\n",
    ">\n",
    ">$...+{^{4}\\textrm{He}}\\rightarrow {^{20}\\textrm{Ne}}+\\gamma $\n",
    ">\n",
    ">Po vyhorení ${^{4}\\textrm{He}}$, dochádza k ďalšiemu gravitačnému kolapsu a následne ku uhlíkovému a kyslíkovému horeniu. Konečná fúzia je za pomoci kremíkového horenia s produkciou jadier s $A\\approx 60$. "
   ]
  },
  {
   "cell_type": "markdown",
   "metadata": {},
   "source": [
    "#### riešenie\n",
    "\n",
    "${^{12}\\textrm{C}}+{^{4}\\textrm{He}}\\rightarrow {^{16}\\textrm{O}}+\\gamma $\n",
    "\n",
    "${^{16}\\textrm{O}}+{^{4}\\textrm{He}}\\rightarrow {^{20}\\textrm{Ne}}+\\gamma $\n"
   ]
  },
  {
   "cell_type": "markdown",
   "metadata": {},
   "source": [
    "# Príklad 10.7\n",
    "\n",
    "> Ako a kde vznikajú jadrá s $A > 60$? "
   ]
  },
  {
   "cell_type": "markdown",
   "metadata": {},
   "source": [
    "#### riešenie\n",
    "V rámci všeobecného vzdelania si treba prečítať napríklad\n",
    "https://en.wikipedia.org/wiki/Nucleosynthesis"
   ]
  }
 ],
 "metadata": {
  "kernelspec": {
   "display_name": "Python 3",
   "language": "python",
   "name": "python3"
  },
  "language_info": {
   "codemirror_mode": {
    "name": "ipython",
    "version": 3
   },
   "file_extension": ".py",
   "mimetype": "text/x-python",
   "name": "python",
   "nbconvert_exporter": "python",
   "pygments_lexer": "ipython3",
   "version": "3.8.3"
  },
  "latex_envs": {
   "LaTeX_envs_menu_present": true,
   "autoclose": false,
   "autocomplete": true,
   "bibliofile": "biblio.bib",
   "cite_by": "apalike",
   "current_citInitial": 1,
   "eqLabelWithNumbers": true,
   "eqNumInitial": 1,
   "hotkeys": {
    "equation": "Ctrl-E",
    "itemize": "Ctrl-I"
   },
   "labels_anchors": false,
   "latex_user_defs": false,
   "report_style_numbering": false,
   "user_envs_cfg": false
  },
  "toc": {
   "base_numbering": 1,
   "nav_menu": {},
   "number_sections": false,
   "sideBar": true,
   "skip_h1_title": false,
   "title_cell": "Table of Contents",
   "title_sidebar": "Obsah",
   "toc_cell": false,
   "toc_position": {
    "height": "calc(100% - 180px)",
    "left": "10px",
    "top": "150px",
    "width": "228px"
   },
   "toc_section_display": true,
   "toc_window_display": true
  },
  "varInspector": {
   "cols": {
    "lenName": 16,
    "lenType": 16,
    "lenVar": 40
   },
   "kernels_config": {
    "python": {
     "delete_cmd_postfix": "",
     "delete_cmd_prefix": "del ",
     "library": "var_list.py",
     "varRefreshCmd": "print(var_dic_list())"
    },
    "r": {
     "delete_cmd_postfix": ") ",
     "delete_cmd_prefix": "rm(",
     "library": "var_list.r",
     "varRefreshCmd": "cat(var_dic_list()) "
    }
   },
   "types_to_exclude": [
    "module",
    "function",
    "builtin_function_or_method",
    "instance",
    "_Feature"
   ],
   "window_display": false
  }
 },
 "nbformat": 4,
 "nbformat_minor": 4
}
