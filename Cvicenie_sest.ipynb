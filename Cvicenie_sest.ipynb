{
 "cells": [
  {
   "cell_type": "markdown",
   "metadata": {},
   "source": [
    "# Cvičenie 6"
   ]
  },
  {
   "cell_type": "code",
   "execution_count": 1,
   "metadata": {},
   "outputs": [],
   "source": [
    "#kniznica na kreslenie grafov\n",
    "import matplotlib.pyplot as plt\n",
    "#numericko matematicka kniznica\n",
    "import numpy as np"
   ]
  },
  {
   "cell_type": "markdown",
   "metadata": {},
   "source": [
    "## Príklad 6.3\n",
    "\n",
    "\n",
    ">Pomocou vzťahu z príkladu 6.2 odvoďte $t_{1/2}$ pre $\\alpha$ - rozpadajúce sa jadrá\n",
    ">$$\n",
    "t_{1/2}=\\frac{\\ln{2}}{\\lambda_0 f}  e^{2 \\left(K_1\\frac{Z}{\\sqrt{E}}-K_2\\sqrt{Z r }\\right)}\n",
    "$$\n",
    ">\n",
    ">kde $t_{1/2}$ je polčas $\\alpha$ - rozpadu jadra,  $\\lambda_0$  je pravdepodobnosť vzniku $\\alpha$ - častice,\n",
    "> $f$ je počet nárazov $\\alpha$ - častice na bariéru za sekundu a $r$ je polomer pôvodného jadra.\n",
    ">Čomu sa rovnajú konštanty $K_1$ a $K_2$? Vyčíslite ich."
   ]
  },
  {
   "cell_type": "markdown",
   "metadata": {},
   "source": [
    "#### riešenie\n",
    "\n",
    "Počítame integrál  \n",
    "$$I=\\frac{\\sqrt{2m}}{\\hbar}\\int_{r}^{r_2}\\sqrt{\\left(\\frac{1}{4\\pi\\epsilon_0}\\frac{2Ze^2}{r'}-E\n",
    " \\right) }dr'$$, \n",
    " \n",
    " použijeme substitúciu $r'=r_2\\sin^2{u}$ a využijeme, že typicky $r\\ll r_2$, potom máme\n",
    " \n",
    " $$I\\approx \\frac{\\sqrt{2mE}}{\\hbar}\n",
    "\\left(\\frac{\\pi}{2}r_2-2\\sqrt{r r_2} \\right)$$\n",
    "\n",
    "dosadíme za $r_2$ zo vzťahu $E=\\frac{1}{4\\pi\\epsilon_0}\\frac{2Ze^2}{r_2}$, potom\n",
    " $$I=K_1\\frac{Z}{\\sqrt{E}}-K_2\\sqrt{Z r },$$\n",
    " \n",
    "kde $K_1=\\frac{\\sqrt{2mc^2}\\pi}{\\hbar c}\\left( \\frac{e^2}{4\\pi\\epsilon_0}\\right)=? ~\\sqrt{MeV}$ a \n",
    "$K_2=\\frac{4\\sqrt{mc^2}}{\\hbar c}\\sqrt{\\left( \\frac{e^2}{4\\pi\\epsilon_0}\\right)}=? ~fm^{-1/2}$. Kde konrétne číselné hodnoty nájdeme ako:"
   ]
  },
  {
   "cell_type": "code",
   "execution_count": 2,
   "metadata": {},
   "outputs": [],
   "source": [
    "#knižnica na import fyzikálnych konštát\n",
    "import scipy.constants as sc\n",
    "# hmotnost alfa častice\n",
    "m=sc.value('alpha particle mass energy equivalent in MeV')\n",
    "alpha=sc.value('fine-structure constant')\n",
    "#knižnica na import fyzikálnych konštát\n",
    "htrans_c=sc.value('reduced Planck constant times c in MeV fm')"
   ]
  },
  {
   "cell_type": "code",
   "execution_count": 3,
   "metadata": {},
   "outputs": [
    {
     "data": {
      "text/plain": [
       "3727.3794066"
      ]
     },
     "execution_count": 3,
     "metadata": {},
     "output_type": "execute_result"
    }
   ],
   "source": [
    "m"
   ]
  },
  {
   "cell_type": "code",
   "execution_count": 4,
   "metadata": {},
   "outputs": [
    {
     "data": {
      "text/plain": [
       "0.0072973525693"
      ]
     },
     "execution_count": 4,
     "metadata": {},
     "output_type": "execute_result"
    }
   ],
   "source": [
    "alpha"
   ]
  },
  {
   "cell_type": "code",
   "execution_count": 5,
   "metadata": {},
   "outputs": [
    {
     "data": {
      "text/plain": [
       "197.3269804"
      ]
     },
     "execution_count": 5,
     "metadata": {},
     "output_type": "execute_result"
    }
   ],
   "source": [
    "htrans_c"
   ]
  },
  {
   "cell_type": "code",
   "execution_count": 6,
   "metadata": {},
   "outputs": [
    {
     "data": {
      "text/plain": [
       "1.979392866620332"
      ]
     },
     "execution_count": 6,
     "metadata": {},
     "output_type": "execute_result"
    }
   ],
   "source": [
    "K1=np.sqrt(2*m)*np.pi*alpha\n",
    "K1"
   ]
  },
  {
   "cell_type": "code",
   "execution_count": 7,
   "metadata": {},
   "outputs": [
    {
     "data": {
      "text/plain": [
       "1.4850846929807244"
      ]
     },
     "execution_count": 7,
     "metadata": {},
     "output_type": "execute_result"
    }
   ],
   "source": [
    "K2=4*np.sqrt(m*alpha/htrans_c)\n",
    "K2"
   ]
  },
  {
   "cell_type": "markdown",
   "metadata": {},
   "source": [
    "## Príklad 6.4\n",
    ">Pomocou vzťahu z príkladu 6.3 vypočítajte $T_{1/2}$ pre $\\alpha$ - rozpady\n",
    ">\n",
    "> $^{220}_{90}\\textrm{Th}(t_{1/2}=10^{-5} s)$, $Q_{\\alpha}=8.95$;\n",
    ">\n",
    "> $^{224}_{90}\\textrm{Th}(t_{1/2}=1.04 s)$, $Q_{\\alpha}=7.31$; \n",
    ">\n",
    ">$^{232}_{90}\\textrm{Th}(t_{1/2}=4.4\\times10^{17} s)$, $Q_{\\alpha}=4.08$;\n",
    ">\n",
    ">porovnajte s experimentálnymi hodnotami danými v zátvorkách.\n",
    ">\n",
    ">Pri výpočte využite nasledujúce aproximácie $E\\approx Q_{\\alpha}$, $\\lambda_0\\approx 1$, $f\\approx v/(r_0 A^{1/3})$,\n",
    ">kde  $v=\\sqrt{\\frac{2(Q+V_0)}{m}}$, $V_0\\approx 35 MeV$"
   ]
  },
  {
   "cell_type": "markdown",
   "metadata": {},
   "source": [
    "#### riešenie\n",
    "Výsledok (pri použití $r=1.2 A^{1/3}$ fm): \n",
    "$^{220}_{90}\\textrm{Th}(t_{1/2}=10^{-4} s)$, $^{224}_{90}\\textrm{Th}(t_{1/2}=22.9 s)$, $^{232}_{90}\\textrm{Th}(t_{1/2}=1. 4 \\times 10^{20} s)$"
   ]
  },
  {
   "cell_type": "code",
   "execution_count": 8,
   "metadata": {},
   "outputs": [
    {
     "data": {
      "text/plain": [
       "2.99792458e+23"
      ]
     },
     "execution_count": 8,
     "metadata": {},
     "output_type": "execute_result"
    }
   ],
   "source": [
    "r0=1.25\n",
    "c=sc.value('speed of light in vacuum')*10**15 #fermi za sec\n",
    "c"
   ]
  },
  {
   "cell_type": "code",
   "execution_count": 9,
   "metadata": {},
   "outputs": [],
   "source": [
    "def t12 (A,Z,E):\n",
    "    \n",
    "    t=np.log(2) /(np.sqrt(2*(35 + E)/m)*c /(r0*A**(1/3)))*np.exp(2*(K1*Z/np.sqrt(E)- K2*np.sqrt(Z*r0*A**(1/3))) )\n",
    "                                                       \n",
    "    return t;                                                   "
   ]
  },
  {
   "cell_type": "code",
   "execution_count": 10,
   "metadata": {},
   "outputs": [
    {
     "data": {
      "text/plain": [
       "0.00014511176916707754"
      ]
     },
     "execution_count": 10,
     "metadata": {},
     "output_type": "execute_result"
    }
   ],
   "source": [
    "t12(220, 90, 8.95)"
   ]
  },
  {
   "cell_type": "code",
   "execution_count": 11,
   "metadata": {},
   "outputs": [
    {
     "data": {
      "text/plain": [
       "38.02505639467297"
      ]
     },
     "execution_count": 11,
     "metadata": {},
     "output_type": "execute_result"
    }
   ],
   "source": [
    "t12(224, 90, 7.31)"
   ]
  },
  {
   "cell_type": "code",
   "execution_count": 12,
   "metadata": {},
   "outputs": [
    {
     "data": {
      "text/plain": [
       "6.01263250958277e+20"
      ]
     },
     "execution_count": 12,
     "metadata": {},
     "output_type": "execute_result"
    }
   ],
   "source": [
    "t12(232, 90, 4.08)"
   ]
  },
  {
   "cell_type": "markdown",
   "metadata": {},
   "source": [
    "## DÚ\n",
    "\n",
    "a) Vzťah pre polčas alfa rozpadu je veľmi citlivý na vstupných parametroch, vypočitajte predošlý príklad pre r$_0$=1,1 a r$_0$=1,2. \n",
    "\n",
    "b) Vypočítajte polčas $\\alpha$ rozpadu pre $^{208}$Po, $^{238}$U, $^{108}$Te, porovnajte výsledky s experimentálnymi hodnotami.\n"
   ]
  },
  {
   "cell_type": "markdown",
   "metadata": {},
   "source": [
    "## Príklad 6.5\n",
    ">Pomocou vzťahu z príkladu 6.1 odvoďte Geieger-Nuttallovo pravidlo (zákon), ktoré sa dá matematicky zapísať ako\n",
    ">\n",
    ">$$\n",
    "\\log_{10}{T_{1/2}}=a(Z)+\\frac{b(Z)}{\\sqrt{E}}\n",
    "$$\n",
    ">Čomu je rovné b(Z)?"
   ]
  },
  {
   "cell_type": "markdown",
   "metadata": {},
   "source": [
    "#### riešenie\n",
    "Zlogaritmujte rovnicu pre t$_{1/2}$ z príkladu 6.3 $\\Rightarrow$ $b(Z)=2K_1Z/\\ln{10}$"
   ]
  },
  {
   "cell_type": "markdown",
   "metadata": {},
   "source": [
    "## Príklad 6.6\n",
    "Zo zákona zachovania energie a hybnosti odvoďte vzťah medzi kinetickou energiou $\\alpha$- častice a Q hodnotou."
   ]
  },
  {
   "cell_type": "markdown",
   "metadata": {},
   "source": [
    "#### riešenie\n",
    "$T_{\\alpha}=\\frac{Q}{1+m_{\\alpha}/m_{X'}}$"
   ]
  },
  {
   "cell_type": "markdown",
   "metadata": {},
   "source": [
    "## Príklad 6.7\n",
    "\n",
    ">Pre prípad $\\alpha$-rozpadu $^{173}_{78} $Pt \n",
    ">\n",
    ">a)vypočítajte kinetickú energiu $\\alpha$-rozpadu pomocou vzťahov\n",
    ">\n",
    ">i)  $T_{\\alpha}=\\frac{Q}{1+m_{\\alpha}/m_{X'}}$\n",
    ">\n",
    ">ii) $T_{\\alpha}\\approx Q ~m_{X'}/m_X$\n",
    ">\n",
    ">iii) $T_{\\alpha}\\approx Q ~(1-4/A)$, kde A je nukleónové číslo dcérskeho jadra\n",
    ">\n",
    ">b) Koľko percent kinetickej energie odnáša $\\alpha$ - častica a koľko dcérske jadro?\n",
    ">\n",
    ">c) Akú typickú energiu má spätný ráz dcérskeho jadra? Môže mať tento spätný ráz negatívny \n",
    "vplyv na biologické materiály?"
   ]
  },
  {
   "cell_type": "markdown",
   "metadata": {},
   "source": [
    "#### riešenie: \n",
    "a)  "
   ]
  },
  {
   "cell_type": "code",
   "execution_count": 13,
   "metadata": {},
   "outputs": [],
   "source": [
    "u=sc.value('atomic mass constant energy equivalent in MeV')\n",
    "mos = 168.967076205*u\n",
    "mpt = 172.976499642*u\n",
    "malpha = 4.002603250*u # pozor atomova hmotnost\n",
    "\n",
    "Q=mpt - mos - malpha"
   ]
  },
  {
   "cell_type": "code",
   "execution_count": 14,
   "metadata": {},
   "outputs": [
    {
     "data": {
      "text/plain": [
       "6.205953264584756"
      ]
     },
     "execution_count": 14,
     "metadata": {},
     "output_type": "execute_result"
    }
   ],
   "source": [
    "#i\n",
    "Q/(1+malpha/mos)"
   ]
  },
  {
   "cell_type": "code",
   "execution_count": 15,
   "metadata": {},
   "outputs": [
    {
     "data": {
      "text/plain": [
       "6.205708573763371"
      ]
     },
     "execution_count": 15,
     "metadata": {},
     "output_type": "execute_result"
    }
   ],
   "source": [
    "#ii\n",
    "Q*mos/mpt"
   ]
  },
  {
   "cell_type": "code",
   "execution_count": 16,
   "metadata": {},
   "outputs": [
    {
     "data": {
      "text/plain": [
       "6.20259795680324"
      ]
     },
     "execution_count": 16,
     "metadata": {},
     "output_type": "execute_result"
    }
   ],
   "source": [
    "#iii\n",
    "Q*(1-4/169)"
   ]
  },
  {
   "cell_type": "markdown",
   "metadata": {},
   "source": [
    "b) pre $A \\in (100,300)$ máme zo vzťahu iii) \n",
    "$T_{\\alpha}\\in (0,96 Q, 0,987 Q) $, takže dcérske jadro odnáša typicky okolo $2\\%$ Q-hodnoty. \n",
    "\n",
    "c) Pre typické Q hodnoty 5 MeV\n",
    "je typická energia dcérskeho jadra 100 keV, čiže môže rozbíjať molekuly, a teda môže mať negatívny dopad na\n",
    "biologické materiály. "
   ]
  },
  {
   "cell_type": "markdown",
   "metadata": {},
   "source": [
    "## Príklad 6.8\n",
    ">V rozpade $^{228}\\textrm{Th}\\longrightarrow ^{224}\\textrm{Ra}+\\alpha $ majú  emitované $\\alpha$ - častice najvyššiu energiu 5,423 MeV a \n",
    "druhú najvyššiu energiu 5,341 MeV. \n",
    ">\n",
    ">a) Vypočítajte Q hodnotu z nameranej energie $\\alpha$-častice.\n",
    ">\n",
    ">b) Vypočítajte energiu 1. excitovaného stavu $^{224}\\textrm{Ra}$."
   ]
  },
  {
   "cell_type": "markdown",
   "metadata": {},
   "source": [
    "#### riešenie"
   ]
  },
  {
   "cell_type": "code",
   "execution_count": 17,
   "metadata": {},
   "outputs": [
    {
     "data": {
      "text/plain": [
       "5.519893571341225"
      ]
     },
     "execution_count": 17,
     "metadata": {},
     "output_type": "execute_result"
    }
   ],
   "source": [
    "mra=224.020202004*u\n",
    "mth=228.028731348*u\n",
    "Q=5.423*(1+malpha/mra)\n",
    "Q"
   ]
  },
  {
   "cell_type": "code",
   "execution_count": 18,
   "metadata": {},
   "outputs": [
    {
     "data": {
      "text/plain": [
       "0.0834651065554084"
      ]
     },
     "execution_count": 18,
     "metadata": {},
     "output_type": "execute_result"
    }
   ],
   "source": [
    "Qex=5.341*(1+malpha/mra)\n",
    "Eex=Q-Qex\n",
    "Eex"
   ]
  },
  {
   "cell_type": "markdown",
   "metadata": {},
   "source": [
    "## Príklad 6.9\n",
    ">a) Vypočítajte Q-hodnotu rozpadu\n",
    ">\n",
    "> $^{220}\\textrm{Th}\\longrightarrow {^{208}\\textrm{Po}}+{^{12}\\textrm{C}}$.\n",
    ">\n",
    ">b) Vypočítajte polčas tohto rozpadu. Pri výpočte využite modifikované vzťahy z\n",
    " príkladov 6.1 a 6.2. (Akú hodnotu bude mať $K_1$ a $K_2$ ?)"
   ]
  },
  {
   "cell_type": "markdown",
   "metadata": {},
   "source": [
    "## DÚ doriešiť"
   ]
  },
  {
   "cell_type": "code",
   "execution_count": null,
   "metadata": {},
   "outputs": [],
   "source": []
  },
  {
   "cell_type": "code",
   "execution_count": null,
   "metadata": {},
   "outputs": [],
   "source": []
  }
 ],
 "metadata": {
  "kernelspec": {
   "display_name": "Python 3",
   "language": "python",
   "name": "python3"
  },
  "language_info": {
   "codemirror_mode": {
    "name": "ipython",
    "version": 3
   },
   "file_extension": ".py",
   "mimetype": "text/x-python",
   "name": "python",
   "nbconvert_exporter": "python",
   "pygments_lexer": "ipython3",
   "version": "3.8.3"
  },
  "latex_envs": {
   "LaTeX_envs_menu_present": true,
   "autoclose": false,
   "autocomplete": true,
   "bibliofile": "biblio.bib",
   "cite_by": "apalike",
   "current_citInitial": 1,
   "eqLabelWithNumbers": true,
   "eqNumInitial": 1,
   "hotkeys": {
    "equation": "Ctrl-E",
    "itemize": "Ctrl-I"
   },
   "labels_anchors": false,
   "latex_user_defs": false,
   "report_style_numbering": false,
   "user_envs_cfg": false
  },
  "toc": {
   "base_numbering": 1,
   "nav_menu": {},
   "number_sections": false,
   "sideBar": true,
   "skip_h1_title": false,
   "title_cell": "Table of Contents",
   "title_sidebar": "Obsah",
   "toc_cell": false,
   "toc_position": {
    "height": "calc(100% - 180px)",
    "left": "10px",
    "top": "150px",
    "width": "228px"
   },
   "toc_section_display": true,
   "toc_window_display": true
  },
  "varInspector": {
   "cols": {
    "lenName": 16,
    "lenType": 16,
    "lenVar": 40
   },
   "kernels_config": {
    "python": {
     "delete_cmd_postfix": "",
     "delete_cmd_prefix": "del ",
     "library": "var_list.py",
     "varRefreshCmd": "print(var_dic_list())"
    },
    "r": {
     "delete_cmd_postfix": ") ",
     "delete_cmd_prefix": "rm(",
     "library": "var_list.r",
     "varRefreshCmd": "cat(var_dic_list()) "
    }
   },
   "types_to_exclude": [
    "module",
    "function",
    "builtin_function_or_method",
    "instance",
    "_Feature"
   ],
   "window_display": false
  }
 },
 "nbformat": 4,
 "nbformat_minor": 4
}
