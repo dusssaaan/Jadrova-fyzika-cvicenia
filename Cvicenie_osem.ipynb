{
 "cells": [
  {
   "cell_type": "markdown",
   "metadata": {},
   "source": [
    "# Cvičenie 8"
   ]
  },
  {
   "cell_type": "code",
   "execution_count": 1,
   "metadata": {},
   "outputs": [],
   "source": [
    "#kniznica na kreslenie grafov\n",
    "import matplotlib.pyplot as plt\n",
    "#numericko matematicka kniznica\n",
    "import numpy as np\n",
    "#knižnica na import fyzikálnych konštát\n",
    "import scipy.constants as sc"
   ]
  },
  {
   "cell_type": "markdown",
   "metadata": {},
   "source": [
    "## Príklad 8.1\n",
    "\n",
    ">Ukážte, že energia fotónu pri deexcitácii jadra je \n",
    ">\n",
    ">$$E_{\\gamma}=\\Delta E-\\frac{(\\Delta E)^2}{2 M c^2}$$\n",
    ">\n",
    "> kde $\\Delta E=E_i-E_f$ a M je hmotnosť deexcitovaného jadra.\n"
   ]
  },
  {
   "cell_type": "markdown",
   "metadata": {},
   "source": [
    "#### riešenie\n",
    "ZZE: $E_i=E_f+E_{\\gamma}+T_R$, \n",
    "\n",
    "ZZH: $\\vec{p}_{\\gamma}=-\\vec{p}_{R}$\n",
    "\n",
    "$\\Rightarrow$ $E_i-E_f \\equiv \\Delta E $ = $E_{\\gamma}$ + T$_R$=$E_{\\gamma}$+$\\frac{E_{\\gamma}^2}{2Mc^2}$ \n",
    "\n",
    "$\\Rightarrow$ $E_{\\gamma}$=$Mc^2\\left(-1+\\sqrt{1+\\frac{2\\Delta E}{Mc^2}} \\right) \\approx Mc^2\\left(-1+\\left(1+\\frac{\\Delta E}{mc^2} -\\frac{(\\Delta E)^2}{2(Mc^2)^2}\\right) \\right)$\n"
   ]
  },
  {
   "cell_type": "markdown",
   "metadata": {},
   "source": [
    "# Príklad 8.2\n",
    "\n",
    ">Pre dané gamma premeny jadier vymenujte všetky dovolené multipólové prechody.\n",
    ">\n",
    ">a)  $1^-\\longrightarrow 2^+$\n",
    ">\n",
    ">b)  $\\frac{1}{2}^-\\longrightarrow \\frac{7}{2}^-$\n",
    ">\n",
    ">c)  $4^+\\longrightarrow 2^+$\n",
    ">\n",
    ">d)  $\\frac{11}{2}^-\\longrightarrow \\frac{3}{2}^+$\n",
    ">\n",
    ">e)  $3^+\\longrightarrow 3^+$"
   ]
  },
  {
   "cell_type": "markdown",
   "metadata": {},
   "source": [
    "#### riešenie\n",
    "pre párne elektrické prechody platí $\\pi_i$=$\\pi_f$ a pre nepárne elektrické $\\pi_i$=-$\\pi_f$. Pre magnetické opačne.\n",
    "\n",
    "a) E1,M2,E3\n",
    "\n",
    "b) M3,E4 \n",
    "\n",
    "c) E2,M3,E4,M5,E6 \n",
    "\n",
    "d) M4,E5,M6,E7 \n",
    "\n",
    "e) elektrónová konverzia\n"
   ]
  },
  {
   "cell_type": "markdown",
   "metadata": {},
   "source": [
    "# Príklad 8.3\n",
    ">Z kvapkového modelu ukážte, že veličina $\\frac{Z^2}{A}$ je rozhodujúcim parametrom pre stabilitu jadra \n",
    "vzhľadom k spontánnemu štiepeniu.\n"
   ]
  },
  {
   "cell_type": "markdown",
   "metadata": {},
   "source": [
    "#### riešenie\n",
    "\n",
    "$E_f=m(Z,A)-2~m(\\frac{Z}{2},\\frac{A}{2}) > 0$ \n",
    "\n",
    "$\\Rightarrow$ $a_s(1-2^{1/3})A^{2/3}+a_c(1-\\frac{1}{2^{2/3}}) \\frac{Z^2}{A^{1/3}} > 0$\n",
    "\n",
    "$\\Rightarrow$ $\\frac{Z^2}{A} > 17.36$\n",
    "\n",
    "Čo sme vypočítali ako:"
   ]
  },
  {
   "cell_type": "code",
   "execution_count": 2,
   "metadata": {},
   "outputs": [
    {
     "data": {
      "text/plain": [
       "17.36384481338566"
      ]
     },
     "execution_count": 2,
     "metadata": {},
     "output_type": "execute_result"
    }
   ],
   "source": [
    "a_s = 17.23\n",
    "a_c = 0.697\n",
    "\n",
    "-a_s*(1 - 2**(1/3))/(a_c*(1 - 2**(-2/3)) )"
   ]
  },
  {
   "cell_type": "markdown",
   "metadata": {},
   "source": [
    "# Príklad 8.4\n",
    ">Z kvapkového modelu odhadnite energiu uvoľnenú pri štiepení $^{239}_{92}$U.\n",
    "\n"
   ]
  },
  {
   "cell_type": "markdown",
   "metadata": {},
   "source": [
    "#### riešenie\n",
    "\n",
    "Dosadením $A$ a $Z$ do rovnice pre $E_f$ z predošlého príkladu, dostávame $E=179 MeV$. Výpočet:"
   ]
  },
  {
   "cell_type": "code",
   "execution_count": 3,
   "metadata": {},
   "outputs": [
    {
     "data": {
      "text/plain": [
       "179.29402267407414"
      ]
     },
     "execution_count": 3,
     "metadata": {},
     "output_type": "execute_result"
    }
   ],
   "source": [
    "A=239\n",
    "Z=92\n",
    "a_s*(1 - 2**(1/3))*A**(2/3)+a_c*(1 - 2**(-2/3))*Z**(2)/A**(1/3) "
   ]
  },
  {
   "cell_type": "markdown",
   "metadata": {},
   "source": [
    "# Príklad 8.5\n",
    "\n",
    ">Z kvapkového modelu ukážte, že rozdiel medzi väzbovou energiou jadra v tvare elipsoidu s osami $a=R(1+\\epsilon)$;\n",
    ">$b=c=\\frac{R}{\\sqrt{1+\\epsilon}}$ a sférického jadra je \n",
    ">\n",
    ">$$\\Delta E=(-\\frac{2}{5}a_sA^{2/3}+\\frac{1}{5}a_c Z^2 A^{-1/3})\\epsilon^2 .$$\n",
    ">\n",
    ">Aká podmienka z tohto vzťahu vyplýva pre spontánne štiepenie jadier?"
   ]
  },
  {
   "cell_type": "markdown",
   "metadata": {},
   "source": [
    "#### riešenie\n",
    "\n",
    "Ak sa nezmení objem jadra, ale iba tvar z guľového na elipsoid, ovplyvnené budú dva členy v kvapkovom modeli - povrchový a coulombovský.\n",
    "Dá sa ukázať, že povrchový člen sa v ráde $\\epsilon^2$ zmení: \n",
    "\n",
    "$a_s^{2/3}\\rightarrow a_s^{2/3} \\left(1+\\frac{2}{5}\\epsilon^2+...\\right)$ \n",
    "\n",
    "a coulombovský:\n",
    "\n",
    "$a_c Z^2 A^{-1/3} \\rightarrow a_c Z^2 A^{-1/3} \\left( 1-\\frac{1}{5}\\epsilon^2+... \\right) $. Podmienka pre spontánne štiepenie je $\\frac{Z^2}{A}>\\frac{2a_s}{a_c}\\approx49$."
   ]
  },
  {
   "cell_type": "code",
   "execution_count": 4,
   "metadata": {},
   "outputs": [
    {
     "data": {
      "text/plain": [
       "49.44045911047346"
      ]
     },
     "execution_count": 4,
     "metadata": {},
     "output_type": "execute_result"
    }
   ],
   "source": [
    "2*a_s/a_c"
   ]
  },
  {
   "cell_type": "markdown",
   "metadata": {},
   "source": [
    "# Príklad 8.6\n",
    "\n",
    ">Ak je pomalý neutrón zachytený jadrom $^{235}_{92}$U, vznikne excitovaný stav $^{236}_{92}$U* .\n",
    ">Aká je jeho excitačná energia? Ak uvážime, že aktivačná energia je rovná 6,2 MeV,\n",
    " može záchyt pomalých neutrónov na jadre $^{235}_{92}$U vyvolať štiepenie?"
   ]
  },
  {
   "cell_type": "markdown",
   "metadata": {},
   "source": [
    "#### riešenie\n",
    "\n",
    "$E_{ex}= m(^{236}U^*)-m(^{236}U) =  m(^{235}U)+m_n-m(^{236}U) $"
   ]
  },
  {
   "cell_type": "code",
   "execution_count": 5,
   "metadata": {},
   "outputs": [],
   "source": [
    "# jedna z kniznic, ktore umoznuju napriklad vypocet hmotnosti izotopov, \n",
    "# https://jtmorrell.github.io/npat/build/html/usersguide/getting_started.html#installation\n",
    "# treba byt opatrny ale ci davaju spravne data, lepsia je https://docs.openmc.org/en/stable/quickinstall.html \n",
    "# ale len na linux\n",
    "from npat import Isotope"
   ]
  },
  {
   "cell_type": "code",
   "execution_count": 6,
   "metadata": {},
   "outputs": [],
   "source": [
    "#hodnoty\n",
    "m235U=Isotope('235U').mass\n",
    "m236U=Isotope('236U').mass\n",
    "\n",
    "u=sc.value('atomic mass constant energy equivalent in MeV')\n",
    "m_neutron=sc.value('neutron mass energy equivalent in MeV')"
   ]
  },
  {
   "cell_type": "code",
   "execution_count": 7,
   "metadata": {},
   "outputs": [
    {
     "data": {
      "text/plain": [
       "6.545457172236638"
      ]
     },
     "execution_count": 7,
     "metadata": {},
     "output_type": "execute_result"
    }
   ],
   "source": [
    "m235U*u+m_neutron-m236U*u"
   ]
  },
  {
   "cell_type": "markdown",
   "metadata": {},
   "source": [
    "Excitačná energia je väčšia ako aktivačná energia, a teda záchyt môže vyvolať štiepenie."
   ]
  },
  {
   "cell_type": "markdown",
   "metadata": {},
   "source": [
    "## Príklad 8.7\n",
    "\n",
    ">Ak je pomalý neutrón zachytený jadrom $^{238}_{92}$U, vznikne excitovaný stav $^{239}_{92}$U* .\n",
    ">Aká je jeho excitačná energia? Ak uvážime, že aktivačná energia je rovná 6,6 MeV,\n",
    "> može záchyt pomalých neutrónov na jadre $^{238}_{92}$U vyvolať štiepenie?\n",
    "\n",
    "\n"
   ]
  },
  {
   "cell_type": "markdown",
   "metadata": {},
   "source": [
    "#### riešenie\n",
    "\n",
    "$E_{ex}= m(^{239}U^*)-m(^{239}U)  =  m(^{238}U)+m_n-m(^{239}U)$ "
   ]
  },
  {
   "cell_type": "code",
   "execution_count": 8,
   "metadata": {},
   "outputs": [],
   "source": [
    "#hodnoty\n",
    "m238U=Isotope('238U').mass\n",
    "m239U=Isotope('239U').mass"
   ]
  },
  {
   "cell_type": "code",
   "execution_count": 9,
   "metadata": {},
   "outputs": [
    {
     "data": {
      "text/plain": [
       "4.80638283333974"
      ]
     },
     "execution_count": 9,
     "metadata": {},
     "output_type": "execute_result"
    }
   ],
   "source": [
    "m238U*u+m_neutron-m239U*u"
   ]
  },
  {
   "cell_type": "markdown",
   "metadata": {},
   "source": [
    "Excitačná energia je menšia ako aktivačná energia, a teda štiepenie nevyvolá."
   ]
  }
 ],
 "metadata": {
  "kernelspec": {
   "display_name": "Python 3",
   "language": "python",
   "name": "python3"
  },
  "language_info": {
   "codemirror_mode": {
    "name": "ipython",
    "version": 3
   },
   "file_extension": ".py",
   "mimetype": "text/x-python",
   "name": "python",
   "nbconvert_exporter": "python",
   "pygments_lexer": "ipython3",
   "version": "3.8.3"
  },
  "latex_envs": {
   "LaTeX_envs_menu_present": true,
   "autoclose": false,
   "autocomplete": true,
   "bibliofile": "biblio.bib",
   "cite_by": "apalike",
   "current_citInitial": 1,
   "eqLabelWithNumbers": true,
   "eqNumInitial": 1,
   "hotkeys": {
    "equation": "Ctrl-E",
    "itemize": "Ctrl-I"
   },
   "labels_anchors": false,
   "latex_user_defs": false,
   "report_style_numbering": false,
   "user_envs_cfg": false
  },
  "toc": {
   "base_numbering": 1,
   "nav_menu": {},
   "number_sections": false,
   "sideBar": true,
   "skip_h1_title": false,
   "title_cell": "Table of Contents",
   "title_sidebar": "Obsah",
   "toc_cell": false,
   "toc_position": {
    "height": "calc(100% - 180px)",
    "left": "10px",
    "top": "150px",
    "width": "228px"
   },
   "toc_section_display": true,
   "toc_window_display": true
  },
  "varInspector": {
   "cols": {
    "lenName": 16,
    "lenType": 16,
    "lenVar": 40
   },
   "kernels_config": {
    "python": {
     "delete_cmd_postfix": "",
     "delete_cmd_prefix": "del ",
     "library": "var_list.py",
     "varRefreshCmd": "print(var_dic_list())"
    },
    "r": {
     "delete_cmd_postfix": ") ",
     "delete_cmd_prefix": "rm(",
     "library": "var_list.r",
     "varRefreshCmd": "cat(var_dic_list()) "
    }
   },
   "types_to_exclude": [
    "module",
    "function",
    "builtin_function_or_method",
    "instance",
    "_Feature"
   ],
   "window_display": false
  }
 },
 "nbformat": 4,
 "nbformat_minor": 4
}
