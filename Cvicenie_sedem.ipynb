{
 "cells": [
  {
   "cell_type": "markdown",
   "metadata": {},
   "source": [
    "# Cvičenie 7"
   ]
  },
  {
   "cell_type": "code",
   "execution_count": 1,
   "metadata": {},
   "outputs": [],
   "source": [
    "#kniznica na kreslenie grafov\n",
    "import matplotlib.pyplot as plt\n",
    "#numericko matematicka kniznica\n",
    "import numpy as np\n",
    "#knižnica na import fyzikálnych konštát\n",
    "import scipy.constants as sc"
   ]
  },
  {
   "cell_type": "markdown",
   "metadata": {},
   "source": [
    "## Príklad 7.1\n",
    "\n",
    "> Vypočítajte Q-hodnoty pre nasledujúce rozpady\n",
    ">\n",
    "> a) $^{23}\\textrm{Ne}\\longrightarrow {^{23}\\textrm{Na}}+e^-+\\bar{\\nu}$\n",
    ">\n",
    "> b)  $^{25}\\textrm{Al}\\longrightarrow  {^{25}\\textrm{Mg}}+e^++\\nu$\n",
    ">\n",
    "> c)  $^{15}\\textrm{O}+e^-\\longrightarrow {^{15}\\textrm{N}}+\\nu$"
   ]
  },
  {
   "cell_type": "markdown",
   "metadata": {},
   "source": [
    "#### riešenie\n",
    "Pozor na hmotnosti elektrónov."
   ]
  },
  {
   "cell_type": "code",
   "execution_count": 2,
   "metadata": {},
   "outputs": [],
   "source": [
    "# jedna z kniznic, ktore umoznuju napriklad vypocet hmotnosti izotopov, \n",
    "#https://jtmorrell.github.io/npat/build/html/usersguide/getting_started.html#installation\n",
    "# treba byt opatrny ale ci davaju spravne data, lepsia je https://docs.openmc.org/en/stable/quickinstall.html \n",
    "#ale len na linux\n",
    "from npat import Isotope"
   ]
  },
  {
   "cell_type": "code",
   "execution_count": 3,
   "metadata": {},
   "outputs": [],
   "source": [
    "#hodnoty\n",
    "mNe=Isotope('23NE').mass\n",
    "mNa=Isotope('23NA').mass\n",
    "mAl=Isotope('25AL').mass\n",
    "mMg=Isotope('25MG').mass\n",
    "mO=Isotope('15O').mass\n",
    "mN=Isotope('15N').mass\n",
    "\n",
    "u=sc.value('atomic mass constant energy equivalent in MeV')\n",
    "me=sc.value('electron mass energy equivalent in MeV')"
   ]
  },
  {
   "cell_type": "code",
   "execution_count": 4,
   "metadata": {},
   "outputs": [
    {
     "name": "stdout",
     "output_type": "stream",
     "text": [
      "a: 4.3758081571508525\n",
      "b: 3.2546088924714693\n",
      "a: 2.754166422794268\n"
     ]
    }
   ],
   "source": [
    "# a)\n",
    "print('a:', (mNe-mNa)*u)\n",
    "# b)\n",
    "print('b:', (mAl-mMg)*u-2*me)\n",
    "# c)\n",
    "print('a:', (mO-mN)*u)"
   ]
  },
  {
   "cell_type": "markdown",
   "metadata": {},
   "source": [
    "## Príklad 7.2\n",
    "\n",
    ">Ukážte, že pre $\\beta^+$ rozpad zrkadlových jadier platí\n",
    ">\n",
    ">$$ Q=\\Delta E_C-m_ec^2-(m_N-m_P)c^2 $$\n",
    ">\n",
    ">Ďalej ukážte, že Q hodnota  $\\beta^+$ rozpadu zrkadlových jadier závisí lineárne na A$^{2/3}$. \n",
    "Zo zmeraného sklonu priamky sa dá určiť $r_0$. (Tento príklad demonštruje nezávislosť jadrových síl na náboji.)"
   ]
  },
  {
   "cell_type": "markdown",
   "metadata": {},
   "source": [
    "#### riešenie\n",
    "Rozdiel väzbových energií pre zrkadlové jadrá je daný len Coulombovou interakciou\n",
    "$\\Delta E_C=\\frac{3}{5}\\frac{e^2}{4\\pi\\epsilon_0 }\\frac{(2Z-1)}{r_0 A^{1/3} }$.\n",
    "V nami uvažovanom prípade\n",
    " pre zrkadlové jadrá platí $A=2Z-1$, potom dostávame $Q=Z m_H+N m_N-B_1/c^2-\\left((Z-1) m_H + (N+1) m_N-B_2/c^2\\right)-2m_e=\\Delta E_C-(m_N-m_H+2 m_e)=\\frac{3}{5}\\frac{e^2}{4\\pi\\epsilon_0 }\\frac{A^{2/3}}{r_0  }-1,8 ~\\textrm{MeV}$,\n",
    " \n",
    "kde $m_N-m_H+2m_e$ "
   ]
  },
  {
   "cell_type": "code",
   "execution_count": 5,
   "metadata": {},
   "outputs": [],
   "source": [
    "mN=sc.value('neutron mass energy equivalent in MeV')\n",
    "mP=sc.value('proton mass energy equivalent in MeV')\n",
    "me=sc.value('electron mass energy equivalent in MeV')"
   ]
  },
  {
   "cell_type": "code",
   "execution_count": 6,
   "metadata": {},
   "outputs": [
    {
     "data": {
      "text/plain": [
       "1.804331310000022"
      ]
     },
     "execution_count": 6,
     "metadata": {},
     "output_type": "execute_result"
    }
   ],
   "source": [
    "mN-mP+me"
   ]
  },
  {
   "cell_type": "markdown",
   "metadata": {},
   "source": [
    "## Príklad 7.3\n",
    ">Elektrónový záchyt sa môže uskutočniť záchytom elektrónu z rôznej vrstvy K,L,... Experimentáne bolo zistené, že pre mnohé jadrá \n",
    "je pravdepodobnosť L záchytu okolo $11\\% $ z pravdepodobnosti záchytu K elektrónu. Overte tento výsledok pomocou vlnových funkcií pre atóm vodíka."
   ]
  },
  {
   "cell_type": "markdown",
   "metadata": {},
   "source": [
    "#### riešenie\n",
    "$\\psi_{100}=\\frac{1}{a^{3/2}\\sqrt{\\pi}} e^{-r/a}$, $\\psi_{200}=\\frac{1}{4 a^{3/2}\\sqrt{2\\pi}}\\left(2-r/a\\right) e^{-r/2a}$,\n",
    "\n",
    "potom pravdepodobnosť záchytu L záchytu, voči K záchytu je \n",
    "\n",
    "$$P=\\int_{0}^{R}|\\psi_{200}|^2 4\\pi r^2 dr/\\int_{0}^{R}|\\psi_{100}|^24\\pi r^2 dr ,$$\n",
    "\n",
    "ak za polomer jadra $R$ dosadíme $R=a/10000$ dostávame $P=0,125$, integrál doporučujeme vypočítať numericky:"
   ]
  },
  {
   "cell_type": "code",
   "execution_count": 7,
   "metadata": {},
   "outputs": [],
   "source": [
    "# kniznica sympy nam umoznuje vidiet analyticke veci, podobne ako v softvéri Wolfram Mathematica\n",
    "import sympy as sym"
   ]
  },
  {
   "cell_type": "code",
   "execution_count": 8,
   "metadata": {},
   "outputs": [],
   "source": [
    "# tieto premenne chceme ako symboly\n",
    "r=sym.symbols('r')\n",
    "a=sym.symbols('a')"
   ]
  },
  {
   "cell_type": "code",
   "execution_count": 9,
   "metadata": {},
   "outputs": [
    {
     "data": {
      "text/latex": [
       "$\\displaystyle \\frac{\\left(\\frac{1}{a}\\right)^{\\frac{3}{2}} e^{- \\frac{r}{a}}}{\\sqrt{\\pi}}$"
      ],
      "text/plain": [
       "(1/a)**(3/2)*exp(-r/a)/sqrt(pi)"
      ]
     },
     "execution_count": 9,
     "metadata": {},
     "output_type": "execute_result"
    }
   ],
   "source": [
    "def psi_100(r,a):\n",
    "    psi=1/sym.sqrt(sym.pi)*(1/a)**sym.Rational(3/2)*sym.exp(- r/ a)\n",
    "    return psi\n",
    "\n",
    "psi_100(r,a)"
   ]
  },
  {
   "cell_type": "code",
   "execution_count": 10,
   "metadata": {},
   "outputs": [
    {
     "data": {
      "text/latex": [
       "$\\displaystyle \\frac{\\sqrt{2} \\left(2 - \\frac{r}{a}\\right) e^{- \\frac{r}{2 a}}}{8 \\sqrt{\\pi} a^{\\frac{3}{2}}}$"
      ],
      "text/plain": [
       "sqrt(2)*(2 - r/a)*exp(-r/(2*a))/(8*sqrt(pi)*a**(3/2))"
      ]
     },
     "execution_count": 10,
     "metadata": {},
     "output_type": "execute_result"
    }
   ],
   "source": [
    "def psi_200(r,a):\n",
    "    psi=1/(a**sym.Rational(3/2)*sym.sqrt(2*sym.pi)*4)*(2-r/a)*sym.exp(- r/ (2*a))\n",
    "    return psi\n",
    "\n",
    "psi_200(r,a)"
   ]
  },
  {
   "cell_type": "code",
   "execution_count": 11,
   "metadata": {},
   "outputs": [],
   "source": [
    "# Bohr radius\n",
    "a=sc.value('Bohr radius')"
   ]
  },
  {
   "cell_type": "code",
   "execution_count": 12,
   "metadata": {},
   "outputs": [
    {
     "data": {
      "text/latex": [
       "$\\displaystyle 1.33328852246951 \\cdot 10^{-12}$"
      ],
      "text/plain": [
       "1.33328852246951e-12"
      ]
     },
     "execution_count": 12,
     "metadata": {},
     "output_type": "execute_result"
    }
   ],
   "source": [
    "# pravdepodobnost, ze elektron v stave K sa nachadza v jadre\n",
    "PK=sym.integrate(psi_100(r,a)**2*4*np.pi*r**2,(r,0,a/10000))\n",
    "PK=PK.evalf()\n",
    "PK"
   ]
  },
  {
   "cell_type": "code",
   "execution_count": 13,
   "metadata": {},
   "outputs": [
    {
     "data": {
      "text/latex": [
       "$\\displaystyle 1.66661065308688 \\cdot 10^{-13}$"
      ],
      "text/plain": [
       "1.66661065308688e-13"
      ]
     },
     "execution_count": 13,
     "metadata": {},
     "output_type": "execute_result"
    }
   ],
   "source": [
    "# pravdepodobnost, ze elektron v stave L sa nachadza v jadre\n",
    "PL=sym.integrate(psi_200(r,a)**2*4*np.pi*r**2,(r,0,a/10000))\n",
    "PL=PL.evalf()\n",
    "PL"
   ]
  },
  {
   "cell_type": "code",
   "execution_count": 14,
   "metadata": {},
   "outputs": [
    {
     "data": {
      "text/latex": [
       "$\\displaystyle 0.125$"
      ],
      "text/plain": [
       "0.125000000000000"
      ]
     },
     "execution_count": 14,
     "metadata": {},
     "output_type": "execute_result"
    }
   ],
   "source": [
    "PL/PK"
   ]
  },
  {
   "cell_type": "code",
   "execution_count": null,
   "metadata": {},
   "outputs": [],
   "source": []
  }
 ],
 "metadata": {
  "kernelspec": {
   "display_name": "Python 3",
   "language": "python",
   "name": "python3"
  },
  "language_info": {
   "codemirror_mode": {
    "name": "ipython",
    "version": 3
   },
   "file_extension": ".py",
   "mimetype": "text/x-python",
   "name": "python",
   "nbconvert_exporter": "python",
   "pygments_lexer": "ipython3",
   "version": "3.8.3"
  },
  "latex_envs": {
   "LaTeX_envs_menu_present": true,
   "autoclose": false,
   "autocomplete": true,
   "bibliofile": "biblio.bib",
   "cite_by": "apalike",
   "current_citInitial": 1,
   "eqLabelWithNumbers": true,
   "eqNumInitial": 1,
   "hotkeys": {
    "equation": "Ctrl-E",
    "itemize": "Ctrl-I"
   },
   "labels_anchors": false,
   "latex_user_defs": false,
   "report_style_numbering": false,
   "user_envs_cfg": false
  },
  "toc": {
   "base_numbering": 1,
   "nav_menu": {},
   "number_sections": false,
   "sideBar": true,
   "skip_h1_title": false,
   "title_cell": "Table of Contents",
   "title_sidebar": "Obsah",
   "toc_cell": false,
   "toc_position": {
    "height": "calc(100% - 180px)",
    "left": "10px",
    "top": "150px",
    "width": "228px"
   },
   "toc_section_display": true,
   "toc_window_display": true
  },
  "varInspector": {
   "cols": {
    "lenName": 16,
    "lenType": 16,
    "lenVar": 40
   },
   "kernels_config": {
    "python": {
     "delete_cmd_postfix": "",
     "delete_cmd_prefix": "del ",
     "library": "var_list.py",
     "varRefreshCmd": "print(var_dic_list())"
    },
    "r": {
     "delete_cmd_postfix": ") ",
     "delete_cmd_prefix": "rm(",
     "library": "var_list.r",
     "varRefreshCmd": "cat(var_dic_list()) "
    }
   },
   "types_to_exclude": [
    "module",
    "function",
    "builtin_function_or_method",
    "instance",
    "_Feature"
   ],
   "window_display": false
  }
 },
 "nbformat": 4,
 "nbformat_minor": 4
}
