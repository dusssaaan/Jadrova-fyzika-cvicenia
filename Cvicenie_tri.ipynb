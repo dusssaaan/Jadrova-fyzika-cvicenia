{
 "cells": [
  {
   "cell_type": "markdown",
   "metadata": {},
   "source": [
    "# Cvičenie 3"
   ]
  },
  {
   "cell_type": "code",
   "execution_count": 1,
   "metadata": {},
   "outputs": [],
   "source": [
    "#kniznica na kreslenie grafov\n",
    "import matplotlib.pyplot as plt\n",
    "#numericko matematicka kniznica\n",
    "import numpy as np"
   ]
  },
  {
   "cell_type": "markdown",
   "metadata": {},
   "source": [
    "## Príklad 3.1\n",
    ">Kvapkový model jadra uvažuje väzbovú energiu ako\n",
    ">$$B=a_VA-a_sA^{2/3}-a_c\\frac{Z^2}{A^{1/3}}-a_A\\frac{(A-2Z)^2}{A}+\\frac{a_p}{2A^{1/2}}\\left( (-1)^Z+(-1)^N \\right),$$\n",
    ">\n",
    ">kde $a_V=15.56$ MeV, $a_s=17.23$ MeV, $a_c=0.697$ MeV, $a_A=23.285$ MeV a $a_P=12$ MeV,\n",
    ">\n",
    ">a) Porovnajte hodnotu $a_V$ s hodnotou vypočítanou v príklade 2.4 f).\n",
    ">Pôvod ktorých členov kvapkového modelu nám umožňuje vysvetliť jednoduchý Fermiho model?\n",
    ">\n",
    ">b) Aká je elektrostatická energia rovnomerne nabitej gule? Na základe výpočtu z minulých cvičení odhadnite hodnotu $a_c$.\n",
    ">\n",
    ">c) Na základe kvapkového modelu vypočítajte $Z$ ako funkciu $A$, pre stabilné jadrá. Aký je pomer $N/Z$ pre ľahké jadrá a aký pre ťažké?"
   ]
  },
  {
   "cell_type": "markdown",
   "metadata": {},
   "source": [
    "#### riešenie\n",
    "**a)** Z príkladu 2.4 f) máme hodnotu väzbovej energie na jeden nukleón 20 MeV, ktorá je porovnateľná s hodnotou\n",
    "$a_V$, avšak pri stotožnení týchto členov treba byť opatrný, lebo majú rôzny pôvod. Fermiho model nezávislých častíc nám však vysvetľuje pôvod asymetrického člena, hoci koeficient $5/9\\times 20=11.1 $MeV z Fermiho modelu sa značne odlišuje od hodnoty $a_A$."
   ]
  },
  {
   "cell_type": "markdown",
   "metadata": {},
   "source": [
    "**b)** $U=\\frac{3}{5}\\frac{1}{4\\pi\\epsilon_0}\\frac{Z^2 e^2}{R}\\Rightarrow a_c=\\frac{3}{5}\\frac{e^2}{4\\pi\\epsilon_0 r_0}$, vyčíslime si to:"
   ]
  },
  {
   "cell_type": "code",
   "execution_count": 2,
   "metadata": {},
   "outputs": [
    {
     "data": {
      "text/plain": [
       "0.7199822722460065"
      ]
     },
     "execution_count": 2,
     "metadata": {},
     "output_type": "execute_result"
    }
   ],
   "source": [
    "#konštanty\n",
    "alpha=1/137.035999084\n",
    "htrans_c=197.326980 # priblizne 200 Mev fm\n",
    "#ac\n",
    "3/5*alpha*htrans_c/1.2"
   ]
  },
  {
   "cell_type": "markdown",
   "metadata": {},
   "source": [
    "c)$$m=Zm_H+(A-Z)m_N-B,$$ \n",
    "$$\\left(\\frac{\\partial m}{\\partial Z}\\right)_{A=konšt.}=0.$$\n",
    "Zanedbáme $m_N-m_H\\approx 0$ a dostaneme\n",
    "$$\\frac{N}{Z}=1+\\frac{a_c}{2a_A}A^{2/3}$$"
   ]
  },
  {
   "cell_type": "markdown",
   "metadata": {},
   "source": [
    "Nakreslime si túto funkciu"
   ]
  },
  {
   "cell_type": "code",
   "execution_count": 3,
   "metadata": {},
   "outputs": [
    {
     "data": {
      "image/png": "[encoded data removed]",
      "text/plain": [
       "<Figure size 432x288 with 1 Axes>"
      ]
     },
     "metadata": {
      "needs_background": "light"
     },
     "output_type": "display_data"
    }
   ],
   "source": [
    "A=np.linspace(1,200) # A od 1 do 200\n",
    "# N/Z\n",
    "ac=0.697 \n",
    "aA=23.285 \n",
    "def n_z(A): return 1 + ac/(2*aA)*A**(2/3) ;\n",
    "plt.plot(A,n_z(A))  \n",
    "plt.xlabel('A')\n",
    "plt.ylabel('N/Z')\n",
    "plt.show()"
   ]
  },
  {
   "cell_type": "markdown",
   "metadata": {},
   "source": [
    "## Príklad 3.2\n",
    ">Neutrónová hviezda je najmenšou a najhustejšou pozorovanou hviezdou vo vesmíre. Vznikla ako dôsledok\n",
    ">gravitačného kolapsu po výbuchu supernovy. Neutrónová hviezda je zložená takmer výlučne z neutrónov, takže je môžeme\n",
    ">považovať za najväčšie jadro vo vesmíre.\n",
    ">\n",
    ">a) Je zrejmé, že v prípade neutrónovej hviezdy musíme, na rozdiel od obyčajných jadier,\n",
    "> vziať do úvahy gravitačné pôsobenie medzi časticami. Ako vyzerá člen zodpovedný za gravitačné pôsobenie,\n",
    "> ktorý treba dopísať do kvapkového modelu?\n",
    "> Aké bude mať znamienko?\n",
    ">\n",
    "> b) Z kvapkového modelu určite minimálny polomer (v km) a hmotnosť neutónovej hviezdy (v hmotnosti slnka $m_{\\odot}=2\\times 10^{30} kg $ ).\n",
    "> Porovnajte tieto výsledky s nameranými hodnotami. "
   ]
  },
  {
   "cell_type": "markdown",
   "metadata": {},
   "source": [
    "#### riešenie\n",
    "\n",
    "**a)** $B_{G}=+\\frac{3}{5}\\frac{\\kappa}{r_0}\\frac{M^2}{A^{1/3}}=5.84\\times10^{-37}A^{5/3} MeV$.  Kde sme koeficient, ktorý násobí $A^{5/3}$ dostali ako:"
   ]
  },
  {
   "cell_type": "code",
   "execution_count": 4,
   "metadata": {},
   "outputs": [
    {
     "data": {
      "text/plain": [
       "5.8432655941940635e-37"
      ]
     },
     "execution_count": 4,
     "metadata": {},
     "output_type": "execute_result"
    }
   ],
   "source": [
    "(3/5 )*(6.70881*10**(-45))*htrans_c*939.565**2/1.2"
   ]
  },
  {
   "cell_type": "markdown",
   "metadata": {},
   "source": [
    "Kde sme dosadili $ \\kappa=6.70881(67)×10^{−39} \\hbar c (GeV/c)^{-2} $"
   ]
  },
  {
   "cell_type": "markdown",
   "metadata": {},
   "source": [
    "**b)** V kvapkovom modeli zanedbáme párovací a povrchový člen a položíme celkovú väzbovú energiu $B=0$. \n",
    "Dostaneme pre $A=\\sqrt{\\left(\\frac{a_V-a_A}{5.84\\times10^{-37}}\\right)^3}$"
   ]
  },
  {
   "cell_type": "code",
   "execution_count": 5,
   "metadata": {},
   "outputs": [
    {
     "data": {
      "text/plain": [
       "4.810923614893081e+55"
      ]
     },
     "execution_count": 5,
     "metadata": {},
     "output_type": "execute_result"
    }
   ],
   "source": [
    "a_V=15.56\n",
    "a_A=23.285\n",
    "A=((a_A-a_V)/(5.84*10**(-37)))**(3/2)\n",
    "A"
   ]
  },
  {
   "cell_type": "markdown",
   "metadata": {},
   "source": [
    "Polomer neutrónovej hviezdy je zhruba 4 km\n"
   ]
  },
  {
   "cell_type": "code",
   "execution_count": 6,
   "metadata": {},
   "outputs": [
    {
     "data": {
      "text/plain": [
       "4.364395170636976e+18"
      ]
     },
     "execution_count": 6,
     "metadata": {},
     "output_type": "execute_result"
    }
   ],
   "source": [
    "1.2*A**(1/3) # polomer vo Fermi"
   ]
  },
  {
   "cell_type": "markdown",
   "metadata": {},
   "source": [
    "A hmotnosť je $m=0.04M_{Slnko}$"
   ]
  },
  {
   "cell_type": "code",
   "execution_count": 7,
   "metadata": {},
   "outputs": [
    {
     "data": {
      "text/plain": [
       "8.034242436871446e+28"
      ]
     },
     "execution_count": 7,
     "metadata": {},
     "output_type": "execute_result"
    }
   ],
   "source": [
    "# hmotnost v kg\n",
    "1.67*10**(-27)* A "
   ]
  },
  {
   "cell_type": "code",
   "execution_count": 8,
   "metadata": {},
   "outputs": [
    {
     "data": {
      "text/plain": [
       "0.04017121218435723"
      ]
     },
     "execution_count": 8,
     "metadata": {},
     "output_type": "execute_result"
    }
   ],
   "source": [
    "# hmotnost v kg / hmotnost slnka \n",
    "8.034242436871446e+28 /(2e30)"
   ]
  },
  {
   "cell_type": "code",
   "execution_count": null,
   "metadata": {},
   "outputs": [],
   "source": []
  }
 ],
 "metadata": {
  "kernelspec": {
   "display_name": "Python 3",
   "language": "python",
   "name": "python3"
  },
  "language_info": {
   "codemirror_mode": {
    "name": "ipython",
    "version": 3
   },
   "file_extension": ".py",
   "mimetype": "text/x-python",
   "name": "python",
   "nbconvert_exporter": "python",
   "pygments_lexer": "ipython3",
   "version": "3.8.3"
  },
  "latex_envs": {
   "LaTeX_envs_menu_present": true,
   "autoclose": false,
   "autocomplete": true,
   "bibliofile": "biblio.bib",
   "cite_by": "apalike",
   "current_citInitial": 1,
   "eqLabelWithNumbers": true,
   "eqNumInitial": 1,
   "hotkeys": {
    "equation": "Ctrl-E",
    "itemize": "Ctrl-I"
   },
   "labels_anchors": false,
   "latex_user_defs": false,
   "report_style_numbering": false,
   "user_envs_cfg": false
  },
  "toc": {
   "base_numbering": 1,
   "nav_menu": {},
   "number_sections": false,
   "sideBar": true,
   "skip_h1_title": false,
   "title_cell": "Table of Contents",
   "title_sidebar": "Obsah",
   "toc_cell": false,
   "toc_position": {},
   "toc_section_display": true,
   "toc_window_display": true
  },
  "varInspector": {
   "cols": {
    "lenName": 16,
    "lenType": 16,
    "lenVar": 40
   },
   "kernels_config": {
    "python": {
     "delete_cmd_postfix": "",
     "delete_cmd_prefix": "del ",
     "library": "var_list.py",
     "varRefreshCmd": "print(var_dic_list())"
    },
    "r": {
     "delete_cmd_postfix": ") ",
     "delete_cmd_prefix": "rm(",
     "library": "var_list.r",
     "varRefreshCmd": "cat(var_dic_list()) "
    }
   },
   "types_to_exclude": [
    "module",
    "function",
    "builtin_function_or_method",
    "instance",
    "_Feature"
   ],
   "window_display": false
  }
 },
 "nbformat": 4,
 "nbformat_minor": 4
}
