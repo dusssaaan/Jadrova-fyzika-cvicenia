{
 "cells": [
  {
   "cell_type": "markdown",
   "metadata": {},
   "source": [
    "# Cvičenie 2"
   ]
  },
  {
   "cell_type": "code",
   "execution_count": 1,
   "metadata": {},
   "outputs": [],
   "source": [
    "#kniznica na kreslenie grafov\n",
    "import matplotlib.pyplot as plt\n",
    "#numericko matematicka kniznica\n",
    "import numpy as np"
   ]
  },
  {
   "cell_type": "markdown",
   "metadata": {},
   "source": [
    "## Príklad 2.1\n",
    ">Ukážte, že vlnová dĺžka pre neutróny je rovná\n",
    ">\n",
    ">$\\frac{\\lambda}{2 \\pi}\\approx 4,5/\\sqrt{E}~,~~~~~\\textrm{E v MeV, $\\lambda$ v fm}$\n",
    ">\n",
    ">Zhruba pre aké energie je vlnová dĺžka väčšia ako rozmer jadra?\n",
    ">\n",
    ">Ak je $\\lambda$ omnoho väčšie ako rozmer jadra, aký majú rozptýlené neutróny v rozptylovom experimente na jadre moment hybnosti? "
   ]
  },
  {
   "cell_type": "markdown",
   "metadata": {},
   "source": [
    "#### riešenie\n",
    "$$ p=\\frac{h}{\\lambda} \\Rightarrow \\qquad \\frac{\\lambda}{2\\pi}=\\frac{\\hbar}{\\sqrt{2 m E}} $$ \n",
    "\n",
    "približný faktor 4.5 dostaneme po dosadení\n"
   ]
  },
  {
   "cell_type": "code",
   "execution_count": 2,
   "metadata": {},
   "outputs": [
    {
     "data": {
      "text/plain": [
       "4.47213595499958"
      ]
     },
     "execution_count": 2,
     "metadata": {},
     "output_type": "execute_result"
    }
   ],
   "source": [
    "200/np.sqrt(2000)"
   ]
  },
  {
   "cell_type": "markdown",
   "metadata": {},
   "source": [
    "## Príklad 2.2\n",
    ">Aká je elektrostatická energia rovnomerne nabitej gule? "
   ]
  },
  {
   "cell_type": "markdown",
   "metadata": {},
   "source": [
    "#### riešenie\n",
    "$U=\\frac{1}{4\\pi\\epsilon_0}\\int\\frac{Q(r)}{r}dQ=\\frac{3}{5}\\frac{1}{4\\pi\\epsilon_0}\\frac{Z^2 e^2}{R}$\n"
   ]
  },
  {
   "cell_type": "markdown",
   "metadata": {},
   "source": [
    "## Príklad 2.3\n",
    "\n",
    ">a) Zo známych hmotností atómov $^{15}$O m$_{\\textrm{O}}=\t15.003065$u a $^{15}$N m$_{\\textrm{N}}=15.0001088982$u\n",
    "> vypočítajte rozdiel medzi väzbovými energiami príslušných jadier. (Hmotnosti jadier, ako\n",
    "> aj väzbové energie možno nájsť prehľadne na [stránke]( http://nucleardata.nuclear.lu.se/database/masses/).\n",
    ">\n",
    ">b) Pri uvážení, že rozdiel väzbových energií $^{15}$O a $^{15}$N je daný len Coulombovou energiou, \n",
    "vypočítajte polomery daných jadier."
   ]
  },
  {
   "cell_type": "markdown",
   "metadata": {},
   "source": [
    "#### riešenie\n",
    "\n",
    "**a)** všeobecný vzťah pre atómovu hmotnosť\n",
    "$$m c^2 (A,Z)= Z m_H + N m_N -B/c^2, $$\n",
    "\n",
    "kde B je väzbová energia.\n",
    "\n",
    "Rozdiel väzbových energií kyslíka a dusíka je:\n",
    "$$ \\Delta B= B_{^{15}{\\textrm{O}}}-B_{^{15}{\\textrm{N}}}=m_{^{15}{\\textrm{N}}}-m_{^{15}{\\textrm{O}}}+m_H-m_N$$\n",
    "Vypočítajme"
   ]
  },
  {
   "cell_type": "code",
   "execution_count": 3,
   "metadata": {},
   "outputs": [
    {
     "data": {
      "text/plain": [
       "-3.535968081601055"
      ]
     },
     "execution_count": 3,
     "metadata": {},
     "output_type": "execute_result"
    }
   ],
   "source": [
    "# hmotnosti v u\n",
    "mO=15.003065\n",
    "mN=15.0001088982\n",
    "mH=1.007825\n",
    "mn=1.00866491588\n",
    "# u v jednotkach MeV/c^2\n",
    "u=931.49410242 \n",
    "# rozdiel vo vazbovych energiach\n",
    "deltaB=mN-mO+mH -mn  \n",
    "# v jednotkach MeV\n",
    "deltaB*u "
   ]
  },
  {
   "cell_type": "markdown",
   "metadata": {},
   "source": [
    "**b)**\n",
    "$$\\Delta B=-\\frac{3}{5}\\frac{(2Z-1)}{4\\pi\\epsilon_0 R},$$\n",
    "kde Z je náboj kyslíka.\n",
    "\n",
    "Vyjadrime si R, dostaneme"
   ]
  },
  {
   "cell_type": "code",
   "execution_count": 4,
   "metadata": {},
   "outputs": [
    {
     "data": {
      "text/plain": [
       "3.6796413495278886"
      ]
     },
     "execution_count": 4,
     "metadata": {},
     "output_type": "execute_result"
    }
   ],
   "source": [
    "# konstanty\n",
    "alpha=1/137.035999084\n",
    "htrans_c=197.326980 # priblizne 200 Mev fm\n",
    "\n",
    "# R vo fermi\n",
    "3/5*(alpha*htrans_c*(2*8-1))/3.5219956700646633"
   ]
  },
  {
   "cell_type": "markdown",
   "metadata": {},
   "source": [
    "a pre $r_0=R/A^{1/3}$"
   ]
  },
  {
   "cell_type": "code",
   "execution_count": 5,
   "metadata": {},
   "outputs": [
    {
     "data": {
      "text/plain": [
       "1.4920214639395284"
      ]
     },
     "execution_count": 5,
     "metadata": {},
     "output_type": "execute_result"
    }
   ],
   "source": [
    "# r_0\n",
    "3.6796413495278886/15**(1/3)"
   ]
  },
  {
   "cell_type": "markdown",
   "metadata": {},
   "source": [
    "čo je trocha viac ako štandardne uvádzaná hodnota pre $r_0$ 1,1 až 1,3 fm."
   ]
  },
  {
   "cell_type": "markdown",
   "metadata": {},
   "source": [
    "## Príklad 2.4\n",
    ">V jednoduchom **Fermiho modeli jadra** aproximujeme jadro ako sústavu voľných nukleónov viazaných  \n",
    "v trojrozmernej pravouhlej potenciálovej jame s objemom $V=R^3$, kde $R$ je polomer jadra. Vo vnútri jamy je potenciál nulový \n",
    "a na povrchu rovný hodnote $V_0$. Pre zjednodušenie výpočtu sa v tomto modeli\n",
    "používajú hodnoty pre jednotlivé energie nukleónov $E_n=\\frac{\\pi^2\\hbar^2}{2mL^2}( n_x^2+  n_y^2+n_z^2 )$, t.j. energie \n",
    "z takzvanej nekonečnej potenciálovej jamy \n",
    "$V_0\\longrightarrow\\infty$.\n",
    ">\n",
    ">a) Aký počet nukleónov sa nachádza v energetickom intervale $(E, dE)$.\n",
    ">\n",
    ">b) Akú najvyššiu energiu má nukleón v základnom stave (t.j. aká je Fermiho energia sústavy)?\n",
    ">\n",
    ">c) Vyčíslite Fermiho energiu sústavy. Ak uvážime, že separačná energia nukleónov je zhruba 8 MeV, \n",
    "čo môžeme povedať o hĺbke potenciálovej jamy, t.j. akú typickú hodnotu má $V_0$?\n",
    ">\n",
    ">d) Nájdite celkovú kinetickú energiu nukleónov.\n",
    ">\n",
    ">e) Rozvinte výraz pre celkovú kinetickú energiu do druhého rádu v parametri $(Z-N)/A$.\n",
    ">\n",
    ">f) Aká je väzbová energia na jeden nukleón, pre jadrá so $Z=N$?"
   ]
  },
  {
   "cell_type": "markdown",
   "metadata": {},
   "source": [
    "#### riešenie\n",
    "\n",
    "**a)** Vnútri gule s polomerom $n=\\sqrt{n_x^2+n_y^2+n_z^2}$ je $N_E=2\\times \\frac{4}{3}\\pi n^3$ stavov. Berieme do úvahy len \n",
    "kladné $n$, teda 1/8 gule.\n",
    "Vyjadrime $n$ pomocou energie a zderivujme podla $E$. Dostávame tak počet stavov v energetickom intervale $(E,E+dE)$:\n",
    "\n",
    "\n",
    "$$ dN_E=\\frac{\\sqrt{2 m^3}L^3}{\\pi^2\\hbar^3\\pi^2}\\sqrt{E}dE$$\n",
    "\n",
    "\n",
    "**b)** Ak máme vypočítané N$_E$ z predošlej podúlohy, potom Fermiho energiu jednoducho nájdeme ako $E_f=\\frac{1}{2m}\\left( 3\\pi^2\\hbar^{3}\\rho \\right)^{2/3}$, kde $\\rho=N_E/L^3$ je hustota protónov alebo neutrónov v jadre.\n",
    "\n",
    "\n",
    "**c)** $\\rho\\approx 0.14/2$, pretože berieme zvlášť protóny a zvlášť\n",
    " neutróny. Potom máme $E_f$ v $MeV$: "
   ]
  },
  {
   "cell_type": "code",
   "execution_count": 6,
   "metadata": {},
   "outputs": [
    {
     "data": {
      "text/plain": [
       "31.648682553773728"
      ]
     },
     "execution_count": 6,
     "metadata": {},
     "output_type": "execute_result"
    }
   ],
   "source": [
    "1/(2000)*(3*np.pi**2*htrans_c**3*0.14/2)**(2/3)"
   ]
  },
  {
   "cell_type": "markdown",
   "metadata": {},
   "source": [
    "Typická hĺbka jamy je zhruba $V_0\\approx 31.6+8 \\approx 40$ MeV."
   ]
  },
  {
   "cell_type": "markdown",
   "metadata": {},
   "source": [
    "**d)** Využije sa, že protóny a neutróny majú separátne potenciálové jamy. A  použijeme $\\rho=\\frac{Z}{\\frac{4}{3}\\pi r_0^3 A}$. Potom $E=\\int^{E_f}_0E dN_E=\\frac{3}{10 m}\\frac{\\hbar^2}{r_0^2}\\left(\\frac{9\\pi}{4} \\right)^{2/3}A \\frac{N^{5/3}+Z^{5/3}}{A^{5/3}}$. \n",
    "\n",
    "**e)** Rozpíšeme $N=A/2(1-(Z-N)/(2A))$ a $Z=A/2(1+(Z-N)/(2A))$, použijeme T. rozvoj a dostaneme $E\\approx\\frac{3}{10 m}\\frac{\\hbar^2}{r_0^2}\\left( \\frac{9\\pi}{8}  \\right)^{2/3}\\left( A +\\frac{5}{9}\\frac{(N-Z)^2}{A}\\right)$ \n",
    "\n",
    "**f)**\n",
    "$\\frac{3}{10 m}\\frac{\\hbar^2}{r_0^2}\\left( \\frac{9\\pi}{8}  \\right)^{2/3}$ sa dá vyjadriť v MeV ako "
   ]
  },
  {
   "cell_type": "code",
   "execution_count": 7,
   "metadata": {},
   "outputs": [
    {
     "data": {
      "text/plain": [
       "20.066137915770746"
      ]
     },
     "execution_count": 7,
     "metadata": {},
     "output_type": "execute_result"
    }
   ],
   "source": [
    "3/(10*938)*(htrans_c)**2/1.2**2*(9*np.pi/8)**(2/3)"
   ]
  },
  {
   "cell_type": "markdown",
   "metadata": {},
   "source": [
    "potom väzbová energia na jeden nukleón je $40-20\\approx 20$MeV"
   ]
  }
 ],
 "metadata": {
  "kernelspec": {
   "display_name": "Python 3",
   "language": "python",
   "name": "python3"
  },
  "language_info": {
   "codemirror_mode": {
    "name": "ipython",
    "version": 3
   },
   "file_extension": ".py",
   "mimetype": "text/x-python",
   "name": "python",
   "nbconvert_exporter": "python",
   "pygments_lexer": "ipython3",
   "version": "3.8.3"
  },
  "latex_envs": {
   "LaTeX_envs_menu_present": true,
   "autoclose": false,
   "autocomplete": true,
   "bibliofile": "biblio.bib",
   "cite_by": "apalike",
   "current_citInitial": 1,
   "eqLabelWithNumbers": true,
   "eqNumInitial": 1,
   "hotkeys": {
    "equation": "Ctrl-E",
    "itemize": "Ctrl-I"
   },
   "labels_anchors": false,
   "latex_user_defs": false,
   "report_style_numbering": false,
   "user_envs_cfg": false
  },
  "toc": {
   "base_numbering": 1,
   "nav_menu": {},
   "number_sections": false,
   "sideBar": true,
   "skip_h1_title": false,
   "title_cell": "Table of Contents",
   "title_sidebar": "Obsah",
   "toc_cell": false,
   "toc_position": {},
   "toc_section_display": true,
   "toc_window_display": true
  },
  "varInspector": {
   "cols": {
    "lenName": 16,
    "lenType": 16,
    "lenVar": 40
   },
   "kernels_config": {
    "python": {
     "delete_cmd_postfix": "",
     "delete_cmd_prefix": "del ",
     "library": "var_list.py",
     "varRefreshCmd": "print(var_dic_list())"
    },
    "r": {
     "delete_cmd_postfix": ") ",
     "delete_cmd_prefix": "rm(",
     "library": "var_list.r",
     "varRefreshCmd": "cat(var_dic_list()) "
    }
   },
   "types_to_exclude": [
    "module",
    "function",
    "builtin_function_or_method",
    "instance",
    "_Feature"
   ],
   "window_display": false
  }
 },
 "nbformat": 4,
 "nbformat_minor": 4
}
