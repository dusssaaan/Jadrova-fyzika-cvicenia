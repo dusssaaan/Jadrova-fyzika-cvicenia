{
 "cells": [
  {
   "cell_type": "markdown",
   "metadata": {},
   "source": [
    "# Cvičenie 5"
   ]
  },
  {
   "cell_type": "code",
   "execution_count": 1,
   "metadata": {},
   "outputs": [],
   "source": [
    "#kniznica na kreslenie grafov\n",
    "import matplotlib.pyplot as plt\n",
    "#numericko matematicka kniznica\n",
    "import numpy as np"
   ]
  },
  {
   "cell_type": "markdown",
   "metadata": {},
   "source": [
    "## Príklad 5.1\n",
    "\n",
    ">Spomeňte si, že vzťah medzi magnetickým dipólovým momentom nabitej častice $\\mu_z$ a momentom hybnosti $L_z$ je daný \n",
    ">\n",
    ">$$\\mu_z=\\frac{e}{2m}L_z .$$\n",
    ">\n",
    ">Keďže $L_z=\\hbar m_l$, kde $m_l=l,l-1, \\cdots,.....-l$, definujeme pozorovateľný magnetický moment $\\mu $ tak, že zodpovedá najväčšej hodnote $m_l=l$.\n",
    "Potom máme \n",
    ">$$\\mu=g_l\\mu_N l, ~~~~~ \\textrm{s} ~~~~~ \\mu_N=\\frac{e\\hbar}{2m}~~~~~ \\textrm{a}~~~~~ g_l=1$$\n",
    ">\n",
    ">pre elektrón bolo zistené, že magnetický dipólový moment, ktorý elektrón získa vďaka spinu je \n",
    ">\n",
    ">$$\\mu=g_s\\mu_N s, ~~\\textrm{kde} ~~~~~ g_s \\approx 2.$$\n",
    ">\n",
    ">\n",
    ">Pre protón máme namerané hodnoty $g_l=1$ a $g_s=5.58569$ a pre neutrón $g_l=0$( pretože je nenabitý) a $g_s=-3.8260837$. (To, že $g_s$ je pre protón \n",
    "rôzny od 2 a pre neutrón rôzny od nuly, patrí pravdepodobne k prvým dôkazom toho, že protón a neutrón nie sú základnými bodovými časticami.)\n",
    ">\n",
    ">Pre nepárno-párne jadro určuje magnetický moment jadra nespárovaný nukleón. Výpočet dáva\n",
    ">\n",
    ">$$ j=l+1/2: ~~~~~ \\mu=\\left[g_l(j-1/2)+g_s/2\\right]\\mu_N $$\n",
    ">\n",
    ">$$j=l-1/2: ~~~~~ \\mu=\\left[g_l\\frac{j(j+3/2)}{(j+1)}-\\frac{j}{2}\\frac{1}{j+1} g_s\\right]\\mu_N $$\n",
    ">\n",
    "Vypočítajte magnetické momenty nasledovných jadier a hodnoty porovnajte s experimentálnymi (danými v zátvorkách):\n",
    ">\n",
    ">$^{3}_1$H (2,98 $\\mu_N$), $^{3}_2$He (-2,13 $\\mu_N$), $^{15}_7$N (-0,283 $\\mu_N$), $^{17}_8$O (-1,89 $\\mu_N$),  $^{21}_{10}$Ne (-0,66 $\\mu_N$) "
   ]
  },
  {
   "cell_type": "markdown",
   "metadata": {},
   "source": [
    "#### riešenie\n",
    "definujme si funkcie"
   ]
  },
  {
   "cell_type": "code",
   "execution_count": 2,
   "metadata": {},
   "outputs": [],
   "source": [
    "#konštanty\n",
    "glp=1\n",
    "gln=0\n",
    "gsp=5.58569\n",
    "gsn=-3.8260837\n",
    "\n",
    "def mu_plus(j,gl,gs): return gl*(j-1/2)+gs/2; \n",
    "\n",
    "def mu_minus(j,gl,gs): return gl*j*(j+3/2)/(j+1)-j/(2*(j+1))*gs"
   ]
  },
  {
   "cell_type": "code",
   "execution_count": 3,
   "metadata": {},
   "outputs": [
    {
     "data": {
      "text/plain": [
       "2.792845"
      ]
     },
     "execution_count": 3,
     "metadata": {},
     "output_type": "execute_result"
    }
   ],
   "source": [
    "# 3H, nesparovany proton 1s1/2\n",
    "mu_plus(1/2,glp,gsp)\n"
   ]
  },
  {
   "cell_type": "code",
   "execution_count": 4,
   "metadata": {},
   "outputs": [
    {
     "data": {
      "text/plain": [
       "-1.91304185"
      ]
     },
     "execution_count": 4,
     "metadata": {},
     "output_type": "execute_result"
    }
   ],
   "source": [
    "# 3He, nesparovany neutron 1s1/2\n",
    "mu_plus(1/2,gln,gsn)"
   ]
  },
  {
   "cell_type": "code",
   "execution_count": 5,
   "metadata": {},
   "outputs": [
    {
     "data": {
      "text/plain": [
       "-0.26428166666666664"
      ]
     },
     "execution_count": 5,
     "metadata": {},
     "output_type": "execute_result"
    }
   ],
   "source": [
    "# 15N, nesparovany proton 1p1/2\n",
    "mu_minus(1/2,glp,gsp)"
   ]
  },
  {
   "cell_type": "code",
   "execution_count": 6,
   "metadata": {},
   "outputs": [
    {
     "data": {
      "text/plain": [
       "-1.91304185"
      ]
     },
     "execution_count": 6,
     "metadata": {},
     "output_type": "execute_result"
    }
   ],
   "source": [
    "# 17O, nesparovany neutron 1d5/2\n",
    "mu_plus(5/2,gln,gsn)"
   ]
  },
  {
   "cell_type": "code",
   "execution_count": 7,
   "metadata": {},
   "outputs": [
    {
     "data": {
      "text/plain": [
       "-1.91304185"
      ]
     },
     "execution_count": 7,
     "metadata": {},
     "output_type": "execute_result"
    }
   ],
   "source": [
    "# 21Ne, nesparovany neutron 1d5/2\n",
    "mu_plus(5/2,gln,gsn)"
   ]
  },
  {
   "cell_type": "markdown",
   "metadata": {},
   "source": [
    "## Príklad 5.2\n",
    ">\n",
    ">Vypočítajte:\n",
    "> \n",
    ">a) separačnú energiu protónu a neutrónu jadra $^{15}_7$N. \n",
    ">\n",
    ">b) separačnú energiu protónu jadra $^{11}_7$N.\n",
    ">\n",
    ">c) separačnú energiu neutrónu jadra $^{24}_7$N.\n",
    ">\n",
    ">d) separačnú energiu dvoch neutrónov a dvoch protónov jadra $^{15}_7$N.\n",
    ">\n",
    ">e) Ako sú definované tzv. ''drip line''? Prečo existuje zopár jadier aj za týmito čiarami.  \n",
    ">"
   ]
  },
  {
   "cell_type": "markdown",
   "metadata": {},
   "source": [
    "#### riešenie"
   ]
  },
  {
   "cell_type": "code",
   "execution_count": 8,
   "metadata": {},
   "outputs": [
    {
     "name": "stdout",
     "output_type": "stream",
     "text": [
      "10.833282449888166\n",
      "10.207395754902175\n",
      "-1.972904421197853\n",
      "-1.234322780229519\n",
      "31.038657327888103\n",
      "21.386624852611792\n"
     ]
    }
   ],
   "source": [
    "# konštanty\n",
    "u = 931.494061\n",
    "HydrogenMass = 1.0078250\n",
    "NeutronMass = 1.0086649\n",
    "\n",
    "# а) Sn\n",
    "print((-15.000108898 + 14.003074005 + NeutronMass)*u)\n",
    "# а) Sp\n",
    "print((-15.000108898 + 14.003241988 + HydrogenMass)*u)\n",
    "# b) Sp\n",
    "print((-11.026796 + 10.016853 + HydrogenMass)*u)\n",
    "# c) Sm\n",
    "print((-24.050500 + 23.04051 + NeutronMass)*u)\n",
    "# d) S2p\n",
    "print((-15.000108898 + 13.017780267 + 2* HydrogenMass)*u)\n",
    "# e) S2n\n",
    "print((-15.000108898 + 13.005738584 + 2*NeutronMass)*u)"
   ]
  },
  {
   "cell_type": "markdown",
   "metadata": {},
   "source": [
    "## Príklad 5.3\n",
    "> a) Ukážte, že pre strednú dobu života nestabilného jadra platí $\\tau =1/\\lambda$.\n",
    ">\n",
    "> b) Aký je vzťah medzi polčasom rozpadu a strednou dobou života nestabilného jadra?\n"
   ]
  },
  {
   "cell_type": "markdown",
   "metadata": {},
   "source": [
    "#### riešenie\n",
    "a) $\\tau=\\int_0^{\\infty}t \\lambda e^{-\\lambda t} dt$,\n",
    "\n",
    "b) $t_{1/2}=\\ln{2}~\\tau$"
   ]
  },
  {
   "cell_type": "markdown",
   "metadata": {},
   "source": [
    "## Príklad 5.4\n",
    ">Majme tri rádioaktívne zdroje, každý s aktivitou 1 $\\mu$Ci v čase t=0. Ich polčasy rozpadu sú: i) 1s, ii) 1h a iii) 1 deň.\n",
    ">\n",
    ">a) Koľko rádioaktívnych jadier obsahuje zdroj v čase $t=0$?\n",
    ">\n",
    ">b) Koľko jadier sa rozpadne v každom zdroji v časovom intervale $t\\in \\left\\langle 0, 1s\\right\\rangle $? \n",
    ">\n",
    ">c) Koľko jadier sa rozpadne v každom zdroji v časovom intervale $t\\in \\left\\langle 0, 1h\\right\\rangle $? \n",
    ">\n",
    ">d) Na základe b) a c) si všimnite, že meranie počtu rozpadnutých jadier $\\Delta N$ za čas $\\Delta t$ nám dá aktivitu \n",
    "$A=\\frac{\\Delta N}{\\Delta t}$, práve vtedy keď $\\Delta t\\ll t_{1/2} $. \n",
    "Vysvetlite, prečo to tak je (Rozviňte výraz $\\Delta N = N(t)-N(t+\\Delta t)$ pomocou\n",
    "parametra $\\Delta t$)."
   ]
  },
  {
   "cell_type": "markdown",
   "metadata": {},
   "source": [
    "#### riešenie\n",
    "a) $N=A/\\lambda$"
   ]
  },
  {
   "cell_type": "code",
   "execution_count": 9,
   "metadata": {},
   "outputs": [
    {
     "name": "stdout",
     "output_type": "stream",
     "text": [
      "53379.716512891646\n",
      "192166979.44640994\n",
      "4612007506.713839\n"
     ]
    }
   ],
   "source": [
    "#i\n",
    "lam1=np.log(2)\n",
    "N01=3.7e4/lam1\n",
    "print(N01)\n",
    "# ii\n",
    "lam2=np.log(2)/3600\n",
    "N02=3.7e4/lam2\n",
    "print(N02)\n",
    "# iii\n",
    "lam3=np.log(2)/(3600*24)\n",
    "N03=3.7e4/lam3\n",
    "print(N03)"
   ]
  },
  {
   "cell_type": "markdown",
   "metadata": {},
   "source": [
    "b) $\\Delta N=N_0(1-e^{-\\lambda \\Delta t})$"
   ]
  },
  {
   "cell_type": "code",
   "execution_count": 10,
   "metadata": {},
   "outputs": [
    {
     "name": "stdout",
     "output_type": "stream",
     "text": [
      "26689.858256445823\n",
      "36996.43822224456\n",
      "36999.851583635056\n"
     ]
    }
   ],
   "source": [
    "def N(N0,lam,t): return N0*(1-np.exp(-lam*t))\n",
    "#i\n",
    "print(N(N01,lam1,1))\n",
    "# ii\n",
    "print(N(N02,lam2,1))\n",
    "# iii\n",
    "print(N(N03,lam3,1))"
   ]
  },
  {
   "cell_type": "markdown",
   "metadata": {},
   "source": [
    "c)"
   ]
  },
  {
   "cell_type": "code",
   "execution_count": 11,
   "metadata": {},
   "outputs": [
    {
     "name": "stdout",
     "output_type": "stream",
     "text": [
      "53379.716512891646\n",
      "96083489.72320497\n",
      "131294901.10114107\n"
     ]
    }
   ],
   "source": [
    "#i\n",
    "print(N(N01,lam1,3600))\n",
    "# ii\n",
    "print(N(N02,lam2,3600))\n",
    "# iii\n",
    "print(N(N03,lam3,3600))"
   ]
  },
  {
   "cell_type": "markdown",
   "metadata": {},
   "source": [
    "d)"
   ]
  },
  {
   "cell_type": "code",
   "execution_count": 12,
   "metadata": {},
   "outputs": [
    {
     "name": "stdout",
     "output_type": "stream",
     "text": [
      "26689.86 36996.43 36999.85\n"
     ]
    }
   ],
   "source": [
    "# aktivita z merani v pripade b)\n",
    "print(26689.86, 36996.43, 36999.85)"
   ]
  },
  {
   "cell_type": "code",
   "execution_count": 13,
   "metadata": {},
   "outputs": [
    {
     "name": "stdout",
     "output_type": "stream",
     "text": [
      "14.8277 26689.858255555555 36470.80586111111\n"
     ]
    }
   ],
   "source": [
    "# aktivita z merani v pripade c)\n",
    "print(53379.72/3600, 96083489.72/3600, 131294901.10/3600)"
   ]
  },
  {
   "cell_type": "markdown",
   "metadata": {},
   "source": [
    "## Príklad 5.5\n",
    "Uvažujme rozpadový reťazec $^{139}$Cs $\\longrightarrow $ $^{139}$Ba $\\longrightarrow$ $^{139}$La. Na začiatku máme čistú vzorku $^{139}$Cs\n",
    "s aktivitou 1mCi. Polčasy rozpadu sú: 9,5 min pre $^{139}$Cs; 82,9 min pre $^{139}$Ba ($^{139}$La je stabilný).\n",
    "Aká je maximálna aktivita $^{139}$Ba a v akom čase ju dosahuje?"
   ]
  },
  {
   "cell_type": "markdown",
   "metadata": {},
   "source": [
    "#### riešenie: \n",
    "Aktivita $^{139}$Cs je $A_1=\\lambda_1 N_0 e^{-\\lambda_1 t}$, aktivitu $^{139}$Ba dostaneme  riešením rovnice\n",
    "$dN_2=\\lambda_1N_1dt-\\lambda_2N_2dt$, hľadáme riešenie v tvare: $N_2(t)=C_1e^{-\\lambda_1 t}+C_2e^{-\\lambda_2 t}$.\n",
    " Pre aktivitu potom dostávame:\n",
    " \n",
    "$A_2=\\lambda_2N_2(t)=N_0\\frac{\\lambda_2\\lambda_1}{\\lambda_2-\\lambda_1}(\n",
    "e^{-\\lambda_1 t}-e^{-\\lambda_2 t} )$. \n",
    "\n",
    "V čase t=33.54s dostávame maximum aktivity $A_2=0.0865A_1(t=0)$"
   ]
  },
  {
   "cell_type": "markdown",
   "metadata": {},
   "source": [
    "## Príklad C.V.4\n",
    "Aký je rozdiel v hmotnosti  vypočítanej pomocou Weizsackerovej formuly a experimentálnymi hodnotami pre jadrá $^{208}$Rn, $^{210}$Rn, $^{212}$Rn, $^{214}$Rn,  $^{216}$Rn.  \n",
    "Vidíme tam shell efekt?"
   ]
  },
  {
   "cell_type": "markdown",
   "metadata": {},
   "source": [
    "#### riešenie: \n",
    "hmotnosť z Weizsackerovej formuly je: "
   ]
  },
  {
   "cell_type": "code",
   "execution_count": 14,
   "metadata": {},
   "outputs": [],
   "source": [
    "av = 15.56\n",
    "asurf = 17.23\n",
    "ac = 0.697\n",
    "asym = 23.285\n",
    "ap = 12\n",
    "\n",
    "\n",
    "def Weizsacker(A,Z,N):\n",
    "   mass=Z*HydrogenMass*u + N*NeutronMass*u - (av*A - asurf*A**(2/3) - ac*Z**2/A**(1/3) - asym*(A - 2*Z)**2/A\n",
    "       + ap*((-1)**Z + (-1)**N)/(2*A**(1/2)))\n",
    "        \n",
    "   return mass;"
   ]
  },
  {
   "cell_type": "code",
   "execution_count": 15,
   "metadata": {},
   "outputs": [
    {
     "data": {
      "text/plain": [
       "193744.99766741655"
      ]
     },
     "execution_count": 15,
     "metadata": {},
     "output_type": "execute_result"
    }
   ],
   "source": [
    "Weizsacker(208, 86, 208 - 86)"
   ]
  },
  {
   "cell_type": "markdown",
   "metadata": {},
   "source": [
    "## DÚ\n",
    "Dopočítajte ostatné hmotnosti z W. formuly"
   ]
  },
  {
   "cell_type": "code",
   "execution_count": 16,
   "metadata": {},
   "outputs": [
    {
     "data": {
      "text/plain": [
       "201202.95764398633"
      ]
     },
     "execution_count": 16,
     "metadata": {},
     "output_type": "execute_result"
    }
   ],
   "source": [
    "# experimentalne hodnoty\n",
    "207.989631237*u\n",
    "209.989679862*u\n",
    "211.990688899*u\n",
    "213.995346275*u\n",
    "216.000258153*u"
   ]
  },
  {
   "cell_type": "markdown",
   "metadata": {},
   "source": [
    "## DÚ\n",
    "Dopočítajte rozdiel medzi experimentálnymi hodnotami a W. formulou"
   ]
  },
  {
   "cell_type": "code",
   "execution_count": null,
   "metadata": {},
   "outputs": [],
   "source": []
  }
 ],
 "metadata": {
  "kernelspec": {
   "display_name": "Python 3",
   "language": "python",
   "name": "python3"
  },
  "language_info": {
   "codemirror_mode": {
    "name": "ipython",
    "version": 3
   },
   "file_extension": ".py",
   "mimetype": "text/x-python",
   "name": "python",
   "nbconvert_exporter": "python",
   "pygments_lexer": "ipython3",
   "version": "3.8.3"
  },
  "latex_envs": {
   "LaTeX_envs_menu_present": true,
   "autoclose": false,
   "autocomplete": true,
   "bibliofile": "biblio.bib",
   "cite_by": "apalike",
   "current_citInitial": 1,
   "eqLabelWithNumbers": true,
   "eqNumInitial": 1,
   "hotkeys": {
    "equation": "Ctrl-E",
    "itemize": "Ctrl-I"
   },
   "labels_anchors": false,
   "latex_user_defs": false,
   "report_style_numbering": false,
   "user_envs_cfg": false
  },
  "toc": {
   "base_numbering": 1,
   "nav_menu": {},
   "number_sections": false,
   "sideBar": true,
   "skip_h1_title": false,
   "title_cell": "Table of Contents",
   "title_sidebar": "Obsah",
   "toc_cell": false,
   "toc_position": {
    "height": "calc(100% - 180px)",
    "left": "10px",
    "top": "150px",
    "width": "228px"
   },
   "toc_section_display": true,
   "toc_window_display": true
  },
  "varInspector": {
   "cols": {
    "lenName": 16,
    "lenType": 16,
    "lenVar": 40
   },
   "kernels_config": {
    "python": {
     "delete_cmd_postfix": "",
     "delete_cmd_prefix": "del ",
     "library": "var_list.py",
     "varRefreshCmd": "print(var_dic_list())"
    },
    "r": {
     "delete_cmd_postfix": ") ",
     "delete_cmd_prefix": "rm(",
     "library": "var_list.r",
     "varRefreshCmd": "cat(var_dic_list()) "
    }
   },
   "types_to_exclude": [
    "module",
    "function",
    "builtin_function_or_method",
    "instance",
    "_Feature"
   ],
   "window_display": false
  }
 },
 "nbformat": 4,
 "nbformat_minor": 4
}
