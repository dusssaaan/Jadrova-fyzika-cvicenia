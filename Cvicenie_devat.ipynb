{
 "cells": [
  {
   "cell_type": "markdown",
   "metadata": {},
   "source": [
    "# Cvičenie 9"
   ]
  },
  {
   "cell_type": "code",
   "execution_count": 1,
   "metadata": {},
   "outputs": [],
   "source": [
    "#kniznica na kreslenie grafov\n",
    "import matplotlib.pyplot as plt\n",
    "#numericko matematicka kniznica\n",
    "import numpy as np\n",
    "#knižnica na import fyzikálnych konštát\n",
    "import scipy.constants as sc"
   ]
  },
  {
   "cell_type": "markdown",
   "metadata": {},
   "source": [
    "# Príklad 9.1\n",
    "\n",
    ">Pod akým uhlom bude nabitá častica vyžarovať Čerenkovove žiarenie, ak prechádza v prostredí s indexom lomu $n$ a rýchlosťou $v$, \n",
    "pričom platí, že $v>c/n$? \n"
   ]
  },
  {
   "cell_type": "markdown",
   "metadata": {},
   "source": [
    "#### riešenie\n",
    " $\\cos{\\vartheta}=\\frac{1}{\\beta n}$, kde $\\beta=\\frac{v}{c}$  \n",
    "\n"
   ]
  },
  {
   "cell_type": "markdown",
   "metadata": {},
   "source": [
    "# Príklad 9.2\n",
    "\n",
    ">Ako rýchlo musí ísť nabitá častica vo vode s indexom lomu n=1,33 aby vyžarovala Čerenkovove žiarenie?\n",
    "Aký je maximálny uhol Čerenkovovho žiarenia pre časticu vo vode?  \n"
   ]
  },
  {
   "cell_type": "markdown",
   "metadata": {},
   "source": [
    "#### riešenie\n",
    "$v_{min}=\\frac{c}{n}=0.75 c$\n",
    "\n",
    "$\\cos{\\vartheta_{MAX}}=1/n \\Rightarrow \\vartheta_{MAX}=41,2°$\n"
   ]
  },
  {
   "cell_type": "code",
   "execution_count": 2,
   "metadata": {},
   "outputs": [
    {
     "data": {
      "text/plain": [
       "0.7518796992481203"
      ]
     },
     "execution_count": 2,
     "metadata": {},
     "output_type": "execute_result"
    }
   ],
   "source": [
    "# v_min v jednotkach c\n",
    "1/1.33"
   ]
  },
  {
   "cell_type": "code",
   "execution_count": 3,
   "metadata": {},
   "outputs": [
    {
     "data": {
      "text/plain": [
       "41.24653336867277"
      ]
     },
     "execution_count": 3,
     "metadata": {},
     "output_type": "execute_result"
    }
   ],
   "source": [
    "# theta v stupnoch\n",
    "np.arccos(1/1.33)*180/np.pi"
   ]
  },
  {
   "cell_type": "markdown",
   "metadata": {},
   "source": [
    "# Príklad 9.3\n",
    ">Monoenergetický zväzok protónov prechádza cez materiál s indexom lomu n=1,8. \n",
    "Čerenkovovo žiarenie je emitované pod uhlom 11° k zväzku. \n",
    "Nájdite kinetickú energiu protónov v MeV."
   ]
  },
  {
   "cell_type": "markdown",
   "metadata": {},
   "source": [
    "#### riešenie\n",
    "\n",
    "$T=\\frac{1}{2}mc^2 \\frac{1}{(n\\cos{\\vartheta})^2}\\approx 150 MeV.$  \n"
   ]
  },
  {
   "cell_type": "code",
   "execution_count": 4,
   "metadata": {},
   "outputs": [
    {
     "data": {
      "text/plain": [
       "150.26596968443562"
      ]
     },
     "execution_count": 4,
     "metadata": {},
     "output_type": "execute_result"
    }
   ],
   "source": [
    "# vypocet\n",
    "#protonova hmotnost\n",
    "mp=sc.value('proton mass energy equivalent in MeV')\n",
    "T=mp/(1.8*np.cos(11*np.pi/180))**2/2\n",
    "T"
   ]
  },
  {
   "cell_type": "markdown",
   "metadata": {},
   "source": [
    "# Príklad 9.4\n",
    ">Odvoďte vzťah pre Comptonov rozptyl\n",
    ">\n",
    ">$\\lambda'-\\lambda=\\frac{h}{mc}(1-\\cos{\\theta})$.\n"
   ]
  },
  {
   "cell_type": "markdown",
   "metadata": {},
   "source": [
    "#### riešenie\n",
    "\n",
    "ZZH: $\\vec{p}_e=\\vec{p}_{\\gamma}-\\vec{p}_{\\gamma}^{~'} \\Rightarrow p_e^2={p}_{\\gamma}^2+{p}_{\\gamma}^{~'2}-2{p}_{\\gamma}{p}_{\\gamma}^{'}\\cos{\\theta}$ \n",
    "\n",
    "\n",
    "ZZE: $hf+mc^2=hf^{\\prime}+\\sqrt{( p^{\\prime}_e c)^2+( mc^2 )^2 }$ \n",
    "\n",
    "$\\Rightarrow ( p^{\\prime}_e c)^2=( h f - h f^{\\prime}+m c^2 )^2-m c^2 $\n",
    "\n",
    "$\\Rightarrow ( h f - h f^{\\prime}+m c^2 )^2-m c^2 = ( h f )^2 + ( h f^{\\prime} )^2 -2h^2ff^{\\prime}\\cos{\\theta} $\n",
    "\n",
    "$(2hfc^2-2hf^{\\prime}c^2 ) m= 2 h^2 f f^{\\prime}(1-\\cos(\\theta))$\n",
    "\n",
    "$\\frac{c}{f^{\\prime}}-\\frac{c}{f}=\\frac{h}{mc}( 1-\\cos(\\theta) )$\n"
   ]
  },
  {
   "cell_type": "markdown",
   "metadata": {},
   "source": [
    "# Príklad 9.5\n",
    "\n",
    ">Aká je maximálna zmena vlnovej dĺžky fotónu pri Comptonovom rozptyle?"
   ]
  },
  {
   "cell_type": "markdown",
   "metadata": {},
   "source": [
    "#### riešenie\n",
    "\n",
    " $\\Delta \\lambda_{max} =2 \\frac{h}{mc}=4 \\pi \\frac{\\hbar c}{mc^2}\\approx 0,05 \\dot{A}.$"
   ]
  },
  {
   "cell_type": "code",
   "execution_count": 5,
   "metadata": {},
   "outputs": [],
   "source": [
    "me=sc.value('electron mass energy equivalent in MeV')\n",
    "htrans_c=sc.value(\"reduced Planck constant times c in MeV fm\")"
   ]
  },
  {
   "cell_type": "code",
   "execution_count": 6,
   "metadata": {},
   "outputs": [
    {
     "data": {
      "text/plain": [
       "4852.620475871406"
      ]
     },
     "execution_count": 6,
     "metadata": {},
     "output_type": "execute_result"
    }
   ],
   "source": [
    "# vypocet vo Fermi\n",
    "4*np.pi*htrans_c/me"
   ]
  },
  {
   "cell_type": "markdown",
   "metadata": {},
   "source": [
    "# Príklad 9.6\n",
    "\n",
    ">Porovnajte stratu energie fotónu v nasledovných prípadoch\n",
    ">\n",
    ">a) Jeden Comptonov rozptyl o uhol 180°.\n",
    ">\n",
    ">b) Dva Comptonove rozptyly, každý o uhol 90°.\n",
    ">\n",
    ">c) Tri Comptonove rozptyly, každý o uhol 60°."
   ]
  },
  {
   "cell_type": "markdown",
   "metadata": {},
   "source": [
    "#### riešenie\n",
    "\n",
    "$1/E^{\\prime}-1/E =\\frac{1}{mc^2}( 1-\\cos{\\theta} ) \\Longrightarrow E^{\\prime}=\\frac{E}{1+\\frac{E}{mc^2}(1-\\cos{\\theta})}\\equiv \\frac{E}{1+\\alpha(1-\\cos{\\theta})}$\n",
    "\n",
    "a) $E^{\\prime}=\\frac{E}{1+2\\alpha}$ a $\\Delta E = E-E^{\\prime}= \\frac{2\\alpha E}{1+2\\alpha}$\n",
    "\n",
    "b) $E^{\\prime\\prime}=\\frac{E^{\\prime}}{( 1+\\alpha^{\\prime} )}=\\frac{E}{1+2\\alpha}$, kde $\\alpha^{\\prime}=\\frac{E^{\\prime}}{mc^2}=\\frac{\\alpha}{1+\\alpha}\n",
    "\\Rightarrow \\Delta E = E-E^{\\prime}= \\frac{2\\alpha E}{1+2\\alpha}$  \n",
    "\n",
    "c)  $E^{\\prime\\prime\\prime}= \\frac{2 E^{\\prime\\prime}}{2+\\alpha^{\\prime\\prime}}=\\frac{2 E}{(1+\\alpha)(2+3\\alpha)/(1+\\alpha)}=\\frac{2E}{2+3\\alpha}\\Rightarrow \\Delta E=\n",
    "\\frac{3\\alpha E}{2+3\\alpha}$\n"
   ]
  }
 ],
 "metadata": {
  "kernelspec": {
   "display_name": "Python 3",
   "language": "python",
   "name": "python3"
  },
  "language_info": {
   "codemirror_mode": {
    "name": "ipython",
    "version": 3
   },
   "file_extension": ".py",
   "mimetype": "text/x-python",
   "name": "python",
   "nbconvert_exporter": "python",
   "pygments_lexer": "ipython3",
   "version": "3.8.3"
  },
  "latex_envs": {
   "LaTeX_envs_menu_present": true,
   "autoclose": false,
   "autocomplete": true,
   "bibliofile": "biblio.bib",
   "cite_by": "apalike",
   "current_citInitial": 1,
   "eqLabelWithNumbers": true,
   "eqNumInitial": 1,
   "hotkeys": {
    "equation": "Ctrl-E",
    "itemize": "Ctrl-I"
   },
   "labels_anchors": false,
   "latex_user_defs": false,
   "report_style_numbering": false,
   "user_envs_cfg": false
  },
  "toc": {
   "base_numbering": 1,
   "nav_menu": {},
   "number_sections": false,
   "sideBar": true,
   "skip_h1_title": false,
   "title_cell": "Table of Contents",
   "title_sidebar": "Obsah",
   "toc_cell": false,
   "toc_position": {
    "height": "calc(100% - 180px)",
    "left": "10px",
    "top": "150px",
    "width": "228px"
   },
   "toc_section_display": true,
   "toc_window_display": true
  },
  "varInspector": {
   "cols": {
    "lenName": 16,
    "lenType": 16,
    "lenVar": 40
   },
   "kernels_config": {
    "python": {
     "delete_cmd_postfix": "",
     "delete_cmd_prefix": "del ",
     "library": "var_list.py",
     "varRefreshCmd": "print(var_dic_list())"
    },
    "r": {
     "delete_cmd_postfix": ") ",
     "delete_cmd_prefix": "rm(",
     "library": "var_list.r",
     "varRefreshCmd": "cat(var_dic_list()) "
    }
   },
   "types_to_exclude": [
    "module",
    "function",
    "builtin_function_or_method",
    "instance",
    "_Feature"
   ],
   "window_display": false
  }
 },
 "nbformat": 4,
 "nbformat_minor": 4
}
