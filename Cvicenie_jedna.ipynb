{
 "cells": [
  {
   "cell_type": "markdown",
   "metadata": {
    "hide_input": true
   },
   "source": [
    "# Cvičenie 1"
   ]
  },
  {
   "cell_type": "code",
   "execution_count": 1,
   "metadata": {},
   "outputs": [],
   "source": [
    "#kniznica na kreslenie grafov\n",
    "import matplotlib.pyplot as plt\n",
    "#numericko matematicka kniznica\n",
    "import numpy as np"
   ]
  },
  {
   "cell_type": "markdown",
   "metadata": {},
   "source": [
    "Zadefinujeme Konštanty"
   ]
  },
  {
   "cell_type": "code",
   "execution_count": 2,
   "metadata": {},
   "outputs": [],
   "source": [
    "#konštanty\n",
    "alpha=1/137.035999084\n",
    "htrans_c=197.326980 # priblizne 200 Mev fm"
   ]
  },
  {
   "cell_type": "markdown",
   "metadata": {},
   "source": [
    "### *Príklad 1.1:*\n",
    "\n",
    ">Elektrónu sme udelili hybnosť\n",
    ">\n",
    "> a) 50 eV/c,\n",
    ">\n",
    "> b) 0.5 MeV/c,\n",
    ">\n",
    "> c) 500 MeV/c.\n",
    ">\n",
    "> Vypočítajte príslušnú kinetickú energiu elektrónu."
   ]
  },
  {
   "cell_type": "markdown",
   "metadata": {},
   "source": [
    "\n",
    "####  *riešеnie*\n",
    "a) 2.5 meV b) 207 keV c) 500 MeV\n",
    "Pozor! Pre relativistické energie platí \n",
    "$T=\\sqrt{(mc^2)^2+(pc)^2}-mc^2$. Ak $mc^2 >> pc $ alebo $>> T$, potom môžeme používať nerelativistické vzťahy a $T\\approx \\frac{p^2}{2m}$, naopak ak $mc^2 << pc $ alebo $<< T$, potom považujeme častice za ultrarelativistické a $T\\approx pc$.\n",
    "\n",
    "Poďme si to naprogramovať v Pythone"
   ]
  },
  {
   "cell_type": "code",
   "execution_count": 3,
   "metadata": {},
   "outputs": [],
   "source": [
    "# vzdy platny relativisticky vztah pre kineticku energiu\n",
    "def T_REL(m,p): return np.sqrt(m**2+p**2)-m\n",
    "# nerel. limita\n",
    "def T_NONREL(m,p): return p**2/(2*m)\n",
    "# ultrarelativisticke\n",
    "def T_UREL(m,p): return p"
   ]
  },
  {
   "cell_type": "code",
   "execution_count": 4,
   "metadata": {},
   "outputs": [
    {
     "name": "stdout",
     "output_type": "stream",
     "text": [
      "výsledky v MeV\n",
      "2.4999999848063226e-09 2.4999999999999996e-09 4.9999999999999996e-05\n",
      "0.20710678118654757 0.25 0.5\n",
      "499.5002499999375 250000.0 500\n"
     ]
    }
   ],
   "source": [
    "#hmotnost elektronu v MeV, vysledky v MEV\n",
    "print('výsledky v MeV')\n",
    "m=0.5\n",
    "# vypiseme a)\n",
    "print(T_REL(m, 50*10**(-6)) , T_NONREL(m, 50*10**(-6)) , T_UREL(m, 50*10**(-6)))\n",
    "# vypiseme b)\n",
    "print(T_REL(m, 0.5) , T_NONREL(m, 0.5) , T_UREL(m, 0.5))\n",
    "# vypiseme c\n",
    "print(T_REL(m, 500) , T_NONREL(m, 500) , T_UREL(m, 500))"
   ]
  },
  {
   "cell_type": "code",
   "execution_count": 5,
   "metadata": {},
   "outputs": [
    {
     "name": "stdout",
     "output_type": "stream",
     "text": [
      " pre p=0.5 meV máme T_REL=2.5 meV, T_NONREL=2.5 meV , T_UREL=50000.0 meV\n",
      "\n",
      " pre p=0.5 MeV máme T_REL=207.1 keV, T_NONREL=250.0 keV , T_UREL=500.0 keV\n",
      "\n",
      " pre p=500 MeV máme T_REL=499.5 MeV, T_NONREL=250000.0 MeV , T_UREL=500.0 MeV\n",
      "\n"
     ]
    }
   ],
   "source": [
    "# pohrajme sa s formátom v printe (trochu cvicenia s pythonom)\n",
    "p=50*10**(-6)\n",
    "print(f' pre p=0.5 meV máme T_REL={T_REL(m,p)*10**9:.1f} meV, T_NONREL={T_NONREL(m,p)*10**9:.1f} meV , T_UREL={T_UREL(m,p)*10**9:.1f} meV' )\n",
    "p=0.5\n",
    "print()\n",
    "print(f' pre p=0.5 MeV máme T_REL={T_REL(m,p)*10**3:.1f} keV, T_NONREL={T_NONREL(m,p)*10**3:.1f} keV , T_UREL={T_UREL(m,p)*10**3:.1f} keV' )\n",
    "print()\n",
    "p=500\n",
    "print(f' pre p=500 MeV máme T_REL={T_REL(m,p):.1f} MeV, T_NONREL={T_NONREL(m,p):.1f} MeV , T_UREL={T_UREL(m,p):.1f} MeV' )\n",
    "print()"
   ]
  },
  {
   "cell_type": "markdown",
   "metadata": {},
   "source": [
    "### *Príklad 1.2:*\n",
    "\n",
    ">V rozptylovom experimente poznáme: hustotu prúdu dopadajúcich častíc $j$ za jednotku času, počet častíc v terčíku $N$, počet\n",
    " častíc zaregistrovaných určitým detektorom za jednotku času $dn$ a priestorový uhol pokrytý týmto detektorom $d\\Omega$.\n",
    "Vysvetlite, čo označujú symboly $\\frac{d\\sigma}{d \\Omega}$, $\\sigma$ a $n$ v nasledovných vzťahoch\n",
    ">\n",
    ">\n",
    ">$$dn=jN \\frac{d\\sigma}{d \\Omega} d\\Omega $$\n",
    ">\n",
    ">\n",
    ">$$n=jN\\sigma  $$\n"
   ]
  },
  {
   "cell_type": "markdown",
   "metadata": {},
   "source": [
    "### *Príklad 1.3:*\n",
    ">Zdrojom alfa-častíc použitým v Rutherfordovom experimente bolo obohatené rádium umiestnené v tenkostennej sklenenej trubici s polomerom\n",
    " 1-mm. Sila zdroja bola 0.1 Curie, čo predstavuje 3.7 miliárd jadrových rozpadov za sekundu. \n",
    "Alfa častice boli namierené priamo na tenký terč zlata (Pre náš príklad\n",
    "uvažujme počet atómov v terči $N=10^{18}$ a že častice alfa boli urýchlené na energiu $E_{\\alpha}=20 MeV$). \n",
    ">\n",
    ">a) Aká je maximálna zámerná vzdialenosť alfa častice od jadra, aby sa rozptýlila o uhol väčší ako 1°. \n",
    ">\n",
    ">b) Uvažujme uhlové rozlíšenie detektora $1°$. Koľko častíc pôvodného zväzku\n",
    " pozorujeme v detektore pre $\\theta=0$ (t.j. v intervale $\\theta\\in\\left(0,1°\\right)$).\n",
    ">\n",
    ">c) Pre akú zámernú vzdialenosť alfa častice od jadra už určite nemožno použiť Rutherdovu formulu? \n",
    "Nájdite rozptylový uhol k danej zámernej vzdialenosti.\n",
    ">\n",
    ">d)Vysvetlite, prečo pre Rutherfordov rozptyl diferenciálny účinný prierez  $\\frac{d\\sigma}{d\\Omega}\\propto 1/\\sin^4{(\\theta/2)}$\n",
    "diverguje pre $\\theta \\longrightarrow 0$. Spôsobuje nám to v realite problémy?\n",
    "Bez počítania určite, koľko je účinný prierez $\\sigma$ pre Rutherfordov rozptyl. \n"
   ]
  },
  {
   "cell_type": "markdown",
   "metadata": {},
   "source": [
    "#### *riešenie* \n",
    "a)$b\\approx 650 fm$ \n",
    "\n",
    "b) Pod uhlom väčším ako 1° sa rozptýli $1.6\\times 10^9$ častíc za sekundu.\n",
    " Počet častíc rozptylujúcich s uholom menším\n",
    "ako 1° je $(3.7-1.6)\\times 10^9 \\approx 2.1\\times 10^9$ \n",
    "\n",
    "c) Kvôli tieneniu jadra elektrónmi, určite nie pre vzámerné vzdialenosti na úrovni\n",
    "$1\\dot{A}$ a vyššie. Tomu zodpovedajú rozptylové uhly menšie ako 0.0066°.\n",
    "\n",
    "d) Nespôsobuje, viď. odpoveď c), $\\sigma\\longrightarrow\\infty$\n",
    "\n",
    "Riešme niektoré podúlohy v Pythone:"
   ]
  },
  {
   "cell_type": "markdown",
   "metadata": {},
   "source": [
    "Pre Rutherfordov rozptyl máme vzámernú vzdialenosť rovnú $b = \\frac{\\alpha ~Z~ \\hbar~ c}{E_{\\alpha}} ~ \\cot(\\vartheta/2) $"
   ]
  },
  {
   "cell_type": "code",
   "execution_count": 6,
   "metadata": {},
   "outputs": [],
   "source": [
    "def b(Z,E_alpha,theta):\n",
    "    b=alpha*Z*htrans_c/(E_alpha*np.tan(theta/2))\n",
    "    return b"
   ]
  },
  {
   "cell_type": "code",
   "execution_count": 7,
   "metadata": {},
   "outputs": [
    {
     "data": {
      "text/plain": [
       "651.7641938802536"
      ]
     },
     "execution_count": 7,
     "metadata": {},
     "output_type": "execute_result"
    }
   ],
   "source": [
    "# cast a)\n",
    "b(79,20,1/180*np.pi)"
   ]
  },
  {
   "cell_type": "code",
   "execution_count": 8,
   "metadata": {},
   "outputs": [
    {
     "data": {
      "text/plain": [
       "1571747288.3701944"
      ]
     },
     "execution_count": 8,
     "metadata": {},
     "output_type": "execute_result"
    }
   ],
   "source": [
    "# cast b)Pod uhlom väčším ako 1° sa rozptýli n=j N pi b^2\n",
    "j=3.7*10**9/(np.pi*(10**(12))**2) # jednotky fermi\n",
    "#n=j N pi b^2\n",
    "j*10**(18)*np.pi*b(79,20,1/180*np.pi)**2"
   ]
  },
  {
   "cell_type": "code",
   "execution_count": 9,
   "metadata": {},
   "outputs": [
    {
     "data": {
      "text/plain": [
       "0.0065178073857530125"
      ]
     },
     "execution_count": 9,
     "metadata": {},
     "output_type": "execute_result"
    }
   ],
   "source": [
    "# b=1 A= 10**5 fm, zodpoveda uhol (v stupnoch)\n",
    "2*np.arctan(alpha*79*htrans_c/(20*10**(5)))*(180/np.pi)"
   ]
  },
  {
   "cell_type": "markdown",
   "metadata": {
    "collapsed": true
   },
   "source": [
    "### *Príklad 1.4:*\n",
    ">Ukážte, že pri Rutherfordovom experimente sa alfa častice dostanú najbližšie k jadru do vzdialenosti \n",
    ">\n",
    ">\n",
    ">$$d=\\frac{b\\cos(\\theta/2)}{1-\\sin(\\theta/2)}$$\n"
   ]
  },
  {
   "cell_type": "markdown",
   "metadata": {},
   "source": [
    "####  *riešеnie*\n",
    "\n",
    "Označme rýchlosť častice alfa v najbližšej vzidalenosti od jadra ako $v_d$ \n",
    "a jej počiatočnú rýchlosť ako $v$. Potom platí zákon zachovania momentu hybnosti $d v_d=b v$ \n",
    "a zákon zachovania energie $\\frac{1}{2}mv^2=\\frac{1}{2}mv_d^2+\\frac{1}{4\\pi \\epsilon_0}\\frac{2Z e^2}{d}$. Riešením daných dvoch rovníc, \n",
    "obdržíme $d$ priamočiaro.\n",
    "\n"
   ]
  },
  {
   "cell_type": "markdown",
   "metadata": {},
   "source": [
    "### *Príklad 1.5:*\n",
    ">Z Rutherfordovho experimentu sme obdržali závislosť \n",
    "diferenciálneho účinného prierezu na energii a uhle rozptylu alfa častice - viď. obr. 1 a 2.\n",
    "Určite z obrázkov polomer jadra $^{208}$Pb."
   ]
  },
  {
   "cell_type": "markdown",
   "metadata": {},
   "source": [
    "####  *riešеnie*\n",
    "Na obrázku (a) vidíme, že Rutherfordova formula nám platí zhruba pre energie alfa častíc do 28 MeV. \n",
    "Potom sa už alfa častice dostávajú tak blízko jadra, že začínajú cítiť jadrové sily. \n",
    "Použitím rovnice pre $d$ dostaneme horný limit na $r\\approx 12.65 fm$. Z rovnice pre $d$ sa dá vidieť, že pri danej energii\n",
    "sa alfa častica dostane bližšie k jadru pre veľké uhly. Z obrázku (b) vidíme, že pre $\\theta\\approx100°$, sa alfa\n",
    "častica dostane tak blízko jadra $r\\approx$ (Domáca úloha), že pocíti jadrové sily.\n",
    "\n",
    "Výpočet v Pythone, určenie polomeru z obrázku (a):"
   ]
  },
  {
   "cell_type": "code",
   "execution_count": 10,
   "metadata": {},
   "outputs": [
    {
     "data": {
      "text/plain": [
       "7.3041258456054035"
      ]
     },
     "execution_count": 10,
     "metadata": {},
     "output_type": "execute_result"
    }
   ],
   "source": [
    "# vypocitajme b\n",
    "b(82,28,60/180*np.pi)"
   ]
  },
  {
   "cell_type": "code",
   "execution_count": 11,
   "metadata": {},
   "outputs": [
    {
     "data": {
      "text/plain": [
       "12.651117069465549"
      ]
     },
     "execution_count": 11,
     "metadata": {},
     "output_type": "execute_result"
    }
   ],
   "source": [
    "# vypocitajme d\n",
    "b(82,28,60/180*np.pi)*np.cos(60/180*np.pi/2)/(1-np.sin(60/180*np.pi/2))"
   ]
  },
  {
   "cell_type": "markdown",
   "metadata": {},
   "source": [
    "#### DÚ \n",
    "vyrátajte najbližšiu vzdialenosť pre obrázok (b)\n"
   ]
  },
  {
   "cell_type": "markdown",
   "metadata": {},
   "source": [
    "### *Príklad 1.6*\n",
    "\n",
    ">Z rozptylu elektrónov na jadrách bolo zistené, že rozloženie hustoty náboja v jadre má tvar\n",
    ">\n",
    ">\n",
    ">$$\\rho(r)=\\frac{\\rho_0}{1+e^{(r-R)/\\delta}}$$\n",
    ">\n",
    ">kde $R=r_0A^{1/3}$, pričom $r_0=1.2 fm$ a $\\delta=0.5 fm$.\n",
    ">\n",
    ">a) Ukážte, že inflexný bod rozdelenia je rovný $R$.\n",
    ">\n",
    ">b) Ukážte, že hrúbka povrchu jadra, \n",
    "t.j. vzdialenosť, pre ktorú poklesne hustota jadra z $0,9\\rho_0$ na $0,1\\rho_0$ je rovná $t\\approx 4.4\\delta$.\n",
    ">\n",
    ">c) Dostávame konzistentné výsledky pre polomer jadra olova $^{208}$Pb v porovnaní s Rutherfordovým experimentom?"
   ]
  },
  {
   "cell_type": "markdown",
   "metadata": {},
   "source": [
    "#### *riešenie* \n",
    "a) Z rovnice $\\frac{d^2}{dr^2}\\rho(r)=0$. b) treba využiť, že $\\ln{9}\\approx 2.2$ c)\n",
    "Pre polomer jadra sa uvádza vzťah $r=1.2 A^{1/3}$ fm. Z toho dostávame $r(^{208}\\textrm{Pb})=7.11$ fm. Pri \n",
    "interpretácii Rutherfordovho experimentu treba vziat do úvahy ešte aj polomer $\\alpha$  častice $r(\\alpha)=1.9$ fm, 2 krát polovicu\n",
    "hrúbky povrchu jadra $2\\times 1.1$ fm a ešte dosah jadrových síl, čo je zhruba $1$ fm. Spolu dostávame, že pri Rutherfordovho experimente\n",
    "s terčom olova $^{208}$Pb bude $\\alpha$ častica cítiť jadrové sily vo vzdialenosti $12.2$ fm od jadra terča, čo je v dobrej zhode s príkladom \n"
   ]
  },
  {
   "cell_type": "markdown",
   "metadata": {},
   "source": [
    "### *Príklad 1.7*\n",
    ">Akú hustotu majú jadrá? Koľko nukleónov na fm$^3$ sa nachádza v jadrách? "
   ]
  },
  {
   "cell_type": "markdown",
   "metadata": {},
   "source": [
    "#### *riešenie*\n",
    "Hmotnosť jadra je úmerná A, z toho vyplýva, že hustota nezávisí na A. $\\rho\\approx 0.14 \\textrm{nukleón} /\\textrm{fm}^3 $, alebo \n",
    "$\\rho\\approx 2.3 \\times 10^{17} \\textrm{kg}/ \\textrm{m}^3 $.\n",
    "\n",
    "Vypočítajme to v Pythone"
   ]
  },
  {
   "cell_type": "code",
   "execution_count": 12,
   "metadata": {},
   "outputs": [
    {
     "data": {
      "text/plain": [
       "0.13815533254504808"
      ]
     },
     "execution_count": 12,
     "metadata": {},
     "output_type": "execute_result"
    }
   ],
   "source": [
    "# hustota / pocet nukleonov na fm\n",
    "1/(4/3*np.pi*1.2**3)"
   ]
  },
  {
   "cell_type": "code",
   "execution_count": 13,
   "metadata": {},
   "outputs": [
    {
     "data": {
      "text/plain": [
       "2.3108163808952995e+17"
      ]
     },
     "execution_count": 13,
     "metadata": {},
     "output_type": "execute_result"
    }
   ],
   "source": [
    "# hustota / kg/m^3\n",
    "mp=1.67262192369*10**(-27)\n",
    "mp/(4/3*np.pi*(1.2*10**(-15))**3)"
   ]
  }
 ],
 "metadata": {
  "anaconda-cloud": {},
  "kernelspec": {
   "display_name": "Python 3",
   "language": "python",
   "name": "python3"
  },
  "language_info": {
   "codemirror_mode": {
    "name": "ipython",
    "version": 3
   },
   "file_extension": ".py",
   "mimetype": "text/x-python",
   "name": "python",
   "nbconvert_exporter": "python",
   "pygments_lexer": "ipython3",
   "version": "3.8.3"
  },
  "latex_envs": {
   "LaTeX_envs_menu_present": true,
   "autoclose": false,
   "autocomplete": true,
   "bibliofile": "biblio.bib",
   "cite_by": "apalike",
   "current_citInitial": 1,
   "eqLabelWithNumbers": true,
   "eqNumInitial": 1,
   "hotkeys": {
    "equation": "Ctrl-E",
    "itemize": "Ctrl-I"
   },
   "labels_anchors": false,
   "latex_user_defs": false,
   "report_style_numbering": false,
   "user_envs_cfg": false
  },
  "toc": {
   "base_numbering": 1,
   "nav_menu": {},
   "number_sections": false,
   "sideBar": true,
   "skip_h1_title": false,
   "title_cell": "Osah",
   "title_sidebar": "Obsah",
   "toc_cell": false,
   "toc_position": {},
   "toc_section_display": true,
   "toc_window_display": true
  },
  "varInspector": {
   "cols": {
    "lenName": 16,
    "lenType": 16,
    "lenVar": 40
   },
   "kernels_config": {
    "python": {
     "delete_cmd_postfix": "",
     "delete_cmd_prefix": "del ",
     "library": "var_list.py",
     "varRefreshCmd": "print(var_dic_list())"
    },
    "r": {
     "delete_cmd_postfix": ") ",
     "delete_cmd_prefix": "rm(",
     "library": "var_list.r",
     "varRefreshCmd": "cat(var_dic_list()) "
    }
   },
   "types_to_exclude": [
    "module",
    "function",
    "builtin_function_or_method",
    "instance",
    "_Feature"
   ],
   "window_display": false
  }
 },
 "nbformat": 4,
 "nbformat_minor": 1
}
